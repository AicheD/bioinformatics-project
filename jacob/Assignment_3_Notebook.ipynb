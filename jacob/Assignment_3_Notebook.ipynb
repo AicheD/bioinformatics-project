{
 "cells": [
  {
   "cell_type": "markdown",
   "id": "55c9e856-9edc-4ac9-a49b-c3c942d01488",
   "metadata": {},
   "source": [
    "# Assignment 3"
   ]
  },
  {
   "cell_type": "markdown",
   "id": "6049c3ce-e79a-4051-a838-646ff5f38a57",
   "metadata": {},
   "source": [
    "### Jacob Schreck"
   ]
  },
  {
   "cell_type": "code",
   "execution_count": 233,
   "id": "d53c0bd6-f1da-4fd6-b1f5-24c69cf4dfe8",
   "metadata": {},
   "outputs": [],
   "source": [
    "import pandas as pd\n",
    "import numpy as np\n",
    "from scipy.stats import chi2_contingency\n",
    "from scipy.cluster.hierarchy import linkage, dendrogram, fcluster\n",
    "from statsmodels.stats.multitest import multipletests\n",
    "from sklearn.cluster import KMeans\n",
    "from sklearn.preprocessing import StandardScaler\n",
    "import seaborn as sns\n",
    "import matplotlib.pyplot as plt\n",
    "import matplotlib.patches as mpatches\n",
    "import plotly.graph_objects as go\n",
    "from itertools import combinations"
   ]
  },
  {
   "cell_type": "markdown",
   "id": "62e5000e-85d6-4ac6-ae00-c11e4859847c",
   "metadata": {},
   "source": [
    "### 1. Load the expression and meta data from Assignment 2"
   ]
  },
  {
   "cell_type": "code",
   "execution_count": 13,
   "id": "b69f97d5-b807-40ad-8309-04f6043c69b9",
   "metadata": {},
   "outputs": [],
   "source": [
    "expression_df = pd.read_csv(r'..\\data\\SRP092257\\data_with_gene_names.tsv', sep='\\t')"
   ]
  },
  {
   "cell_type": "code",
   "execution_count": 165,
   "id": "bd5e546a-0fdb-43ef-8596-7f6d30cec8d5",
   "metadata": {},
   "outputs": [],
   "source": [
    "metadata_df = pd.read_csv(r'..\\data\\SRP092257\\metadata_SRP092257.tsv', sep='\\t')"
   ]
  },
  {
   "cell_type": "code",
   "execution_count": 187,
   "id": "ab194d94-c133-4d7d-b4c3-ac58309a93f4",
   "metadata": {},
   "outputs": [
    {
     "name": "stdout",
     "output_type": "stream",
     "text": [
      "SampleID            SRR4478643  SRR4478644  SRR4478646  SRR4478647  \\\n",
      "Gene                                                                 \n",
      "ENSGALG00000000003    0.421323    0.655780    0.558465    0.549481   \n",
      "ENSGALG00000000011    1.499391    1.567302    1.757651    1.756448   \n",
      "CTRB1                -0.091524   -0.069462   -0.082630   -0.036936   \n",
      "WFIKKN1              -0.091524   -0.069462    0.046236   -0.036936   \n",
      "ENSGALG00000000048    0.769552    0.642303    0.469147    0.445833   \n",
      "\n",
      "SampleID            SRR4478648  SRR4478649  SRR4478650  SRR4478651  \\\n",
      "Gene                                                                 \n",
      "ENSGALG00000000003    0.101198    0.594079    0.756371    0.513601   \n",
      "ENSGALG00000000011    1.765184    1.904437    1.722726    1.715991   \n",
      "CTRB1                 0.101198   -0.086019   -0.048818   -0.049148   \n",
      "WFIKKN1               1.465440   -0.086019   -0.048818   -0.049148   \n",
      "ENSGALG00000000048    0.101198    0.507667    0.552726    0.895759   \n",
      "\n",
      "SampleID            SRR4478652  SRR4478653  ...  SRR4478732  SRR4478733  \\\n",
      "Gene                                        ...                           \n",
      "ENSGALG00000000003    0.639048    0.452865  ...    0.696009    0.698794   \n",
      "ENSGALG00000000011    1.323120    1.922265  ...    0.995151    1.076194   \n",
      "CTRB1                -0.032644   -0.063004  ...   -0.072858   -0.075042   \n",
      "WFIKKN1               0.125002   -0.063004  ...    0.095236    0.050925   \n",
      "ENSGALG00000000048    0.809631    0.649445  ...    0.471569    0.638455   \n",
      "\n",
      "SampleID            SRR4478734  SRR4478735  SRR4478736  SRR4478737  \\\n",
      "Gene                                                                 \n",
      "ENSGALG00000000003    0.957189    0.643042    0.861460    0.804800   \n",
      "ENSGALG00000000011    1.109525    0.907209    1.181688    1.174521   \n",
      "CTRB1                -0.087900   -0.075759   -0.075998   -0.062897   \n",
      "WFIKKN1               0.031133    0.048147   -0.075998   -0.062897   \n",
      "ENSGALG00000000048    0.701216    0.619627    0.634146    0.641822   \n",
      "\n",
      "SampleID            SRR4478739  SRR4478740  SRR4478741  SRR4478742  \n",
      "Gene                                                                \n",
      "ENSGALG00000000003    0.908582    0.860731    0.666604    0.730736  \n",
      "ENSGALG00000000011    1.188045    1.021296    0.963623    1.018347  \n",
      "CTRB1                -0.071245   -0.073341   -0.081191   -0.084276  \n",
      "WFIKKN1              -0.071245   -0.073341    0.078928    0.040472  \n",
      "ENSGALG00000000048    1.108487    0.633436    0.835749    0.959064  \n",
      "\n",
      "[5 rows x 94 columns]\n"
     ]
    }
   ],
   "source": [
    "# Check if 'Gene' is properly loaded as a column\n",
    "print(expression_df.head())  # Inspect the first few rows\n"
   ]
  },
  {
   "cell_type": "code",
   "execution_count": 189,
   "id": "01d0491f-91c1-46fe-8da7-dbf8173573e8",
   "metadata": {},
   "outputs": [
    {
     "name": "stdout",
     "output_type": "stream",
     "text": [
      "Gene column found and set as index.\n"
     ]
    }
   ],
   "source": [
    "# If 'Gene' column is not properly detected, handle it manually\n",
    "if 'Gene' not in expression_df.columns:\n",
    "    # Manually set the first column as 'Gene' if needed\n",
    "    expression_df.columns = ['Gene'] + expression_df.columns[1:].tolist()\n",
    "\n",
    "# Set 'Gene' as the index\n",
    "if 'Gene' in expression_df.columns:\n",
    "    expression_df.set_index('Gene', inplace=True)\n",
    "    print(\"Gene column found and set as index.\")\n",
    "else:\n",
    "    print(\"Error: 'Gene' column not found in the expression data.\")"
   ]
  },
  {
   "cell_type": "code",
   "execution_count": 193,
   "id": "9f33e77e-f9a0-41b2-81d5-008ca2a58a8a",
   "metadata": {},
   "outputs": [
    {
     "name": "stdout",
     "output_type": "stream",
     "text": [
      "Warning: The following samples are missing in expression data: {'SRR4478643'}\n"
     ]
    }
   ],
   "source": [
    "# Ensure 'Gene' is already set as the index - this step is already done.\n",
    "# You can skip re-checking the 'Gene' column.\n",
    "\n",
    "# Function to assign groups based on the title ('Thermoneutral' or 'Affected by Heat')\n",
    "def assign_group(title):\n",
    "    if 'Control' in title:\n",
    "        return 'Thermoneutral'\n",
    "    elif 'Heat Stress' in title:\n",
    "        return 'Affected by Heat'\n",
    "    else:\n",
    "        return 'Unknown'  # just in case there's anything unexpected\n",
    "\n",
    "# Create 'Group' column in metadata\n",
    "metadata_df['Group'] = metadata_df['refinebio_title'].apply(assign_group)\n",
    "\n",
    "# Ensure sample names match between expression data and metadata\n",
    "expression_samples = expression_df.columns.tolist()  # No need for [1:] since Gene is already the index\n",
    "metadata_samples = metadata_df['refinebio_accession_code'].tolist()\n",
    "\n",
    "# Check for missing samples\n",
    "missing_samples_in_metadata = set(expression_samples) - set(metadata_samples)\n",
    "if missing_samples_in_metadata:\n",
    "    print(f\"Warning: The following samples are missing in metadata: {missing_samples_in_metadata}\")\n",
    "\n",
    "missing_samples_in_expression = set(metadata_samples) - set(expression_samples)\n",
    "if missing_samples_in_expression:\n",
    "    print(f\"Warning: The following samples are missing in expression data: {missing_samples_in_expression}\")\n",
    "\n",
    "# No need to re-check for the 'Gene' column, as it's already set as the index.\n"
   ]
  },
  {
   "cell_type": "code",
   "execution_count": 197,
   "id": "150316b0-221f-4cf2-bc17-0733a5e3b167",
   "metadata": {},
   "outputs": [
    {
     "name": "stdout",
     "output_type": "stream",
     "text": [
      "Updated metadata samples: ['SRR4478644', 'SRR4478646', 'SRR4478647', 'SRR4478648', 'SRR4478649', 'SRR4478650', 'SRR4478651', 'SRR4478652', 'SRR4478653', 'SRR4478654', 'SRR4478655', 'SRR4478656', 'SRR4478657', 'SRR4478659', 'SRR4478660', 'SRR4478661', 'SRR4478662', 'SRR4478663', 'SRR4478664', 'SRR4478665', 'SRR4478666', 'SRR4478668', 'SRR4478669', 'SRR4478670', 'SRR4478671', 'SRR4478672', 'SRR4478673', 'SRR4478674', 'SRR4478676', 'SRR4478677', 'SRR4478678', 'SRR4478679', 'SRR4478680', 'SRR4478681', 'SRR4478682', 'SRR4478683', 'SRR4478684', 'SRR4478685', 'SRR4478686', 'SRR4478687', 'SRR4478688', 'SRR4478689', 'SRR4478690', 'SRR4478691', 'SRR4478692', 'SRR4478693', 'SRR4478694', 'SRR4478695', 'SRR4478696', 'SRR4478697', 'SRR4478698', 'SRR4478699', 'SRR4478700', 'SRR4478701', 'SRR4478702', 'SRR4478703', 'SRR4478704', 'SRR4478705', 'SRR4478706', 'SRR4478707', 'SRR4478708', 'SRR4478709', 'SRR4478710', 'SRR4478711', 'SRR4478712', 'SRR4478714', 'SRR4478715', 'SRR4478716', 'SRR4478717', 'SRR4478718', 'SRR4478719', 'SRR4478720', 'SRR4478721', 'SRR4478722', 'SRR4478723', 'SRR4478724', 'SRR4478725', 'SRR4478726', 'SRR4478727', 'SRR4478728', 'SRR4478729', 'SRR4478730', 'SRR4478731', 'SRR4478732', 'SRR4478733', 'SRR4478734', 'SRR4478735', 'SRR4478736', 'SRR4478737', 'SRR4478739', 'SRR4478740', 'SRR4478741', 'SRR4478742']\n"
     ]
    }
   ],
   "source": [
    "# Remove 'SRR4478643' and any other missing samples from the metadata\n",
    "metadata_df = metadata_df[metadata_df['refinebio_accession_code'].isin(expression_samples)]\n"
   ]
  },
  {
   "cell_type": "markdown",
   "id": "da9759ee-7816-4195-8409-15893d299faa",
   "metadata": {},
   "source": [
    "### 2. Unsupervised Analysis (e.g. using TidyClust in R or scikit-learn in Python)\n"
   ]
  },
  {
   "cell_type": "markdown",
   "id": "6851ca3a-3c22-4615-89e0-f8e0cc8f2dac",
   "metadata": {},
   "source": [
    "#### a. Subset your data to the 5,000 most variable genes"
   ]
  },
  {
   "cell_type": "code",
   "execution_count": 119,
   "id": "3dfad8c6-02e4-4aab-b84e-0605a3e96488",
   "metadata": {},
   "outputs": [],
   "source": [
    "if 'Gene' in expression_df.columns:\n",
    "    expression_df.set_index('Gene', inplace=True)"
   ]
  },
  {
   "cell_type": "code",
   "execution_count": 121,
   "id": "2f15230f-1374-438c-8f7a-354542991017",
   "metadata": {},
   "outputs": [],
   "source": [
    "gene_variances = expression_df.var(axis=1)\n",
    "\n",
    "top_5000_genes = gene_variances.nlargest(5000).index\n",
    "subset_expression = expression_df.loc[top_5000_genes]"
   ]
  },
  {
   "cell_type": "code",
   "execution_count": 123,
   "id": "0516d47a-3e26-4f1c-a28f-38045b6736d7",
   "metadata": {},
   "outputs": [],
   "source": [
    "#transpose to have samples as rows and genes as cols\n",
    "subset_expression_T = subset_expression.T\n",
    "\n",
    "#standardize\n",
    "scaler = StandardScaler()\n",
    "X_scaled = scaler.fit_transform(subset_expression_T)"
   ]
  },
  {
   "cell_type": "markdown",
   "id": "d5ad3655-e77b-4440-9b88-4f79fd00d1ad",
   "metadata": {},
   "source": [
    "#### b. Using that subset of the data, select and run a clustering algorithm from this list: Hierarchical clustering (e.g. hclust)\n"
   ]
  },
  {
   "cell_type": "code",
   "execution_count": 125,
   "id": "1d663ac2-5877-4865-84b6-1d2d67774e7f",
   "metadata": {},
   "outputs": [
    {
     "data": {
      "image/png": "[encoded data removed]",
      "text/plain": [
       "<Figure size 1000x700 with 1 Axes>"
      ]
     },
     "metadata": {},
     "output_type": "display_data"
    }
   ],
   "source": [
    "# Hierarchical clustering\n",
    "# linkage method can be 'single', 'complete', 'average', or 'ward' (ward is most commonly used)\n",
    "Z = linkage(X_scaled, method='ward')\n",
    "\n",
    "# Plot the dendrogram to visualize the clustering hierarchy\n",
    "plt.figure(figsize=(10, 7))\n",
    "dendrogram(Z, leaf_rotation=90., leaf_font_size=8.)\n",
    "plt.title('Hierarchical Clustering Dendrogram')\n",
    "plt.xlabel('Sample Index')\n",
    "plt.ylabel('Distance')\n",
    "plt.show()"
   ]
  },
  {
   "cell_type": "code",
   "execution_count": 127,
   "id": "e1f20283-d688-4c0e-ba2e-f4085a5dd09a",
   "metadata": {},
   "outputs": [
    {
     "name": "stdout",
     "output_type": "stream",
     "text": [
      "k_3   1  2   3\n",
      "k_2           \n",
      "1    63  0   0\n",
      "2     0  4  27\n"
     ]
    }
   ],
   "source": [
    "# Create a DataFrame to store cluster results for different cuts of the dendrogram\n",
    "cluster_results = pd.DataFrame(index=subset_expression_T.index)\n",
    "\n",
    "# Loop over different number of clusters, k, from 2 to 10\n",
    "for k in range(2, 11):\n",
    "    # fcluster with criterion='maxclust' finds exactly 'k' clusters\n",
    "    clusters = fcluster(Z, k, criterion='maxclust')\n",
    "    cluster_results[f'k_{k}'] = clusters\n",
    "\n",
    "# Compare cluster memberships for k=2 and k=3 (similar to your K-means example)\n",
    "contingency_table = pd.crosstab(cluster_results['k_2'], cluster_results['k_3'])\n",
    "print(contingency_table)"
   ]
  },
  {
   "cell_type": "code",
   "execution_count": 129,
   "id": "b3d93505-43e9-4814-a8a1-d4b2c942d4d7",
   "metadata": {},
   "outputs": [
    {
     "name": "stdout",
     "output_type": "stream",
     "text": [
      "Height for k=2: 422.92006851850056\n",
      "Height for k=3: 286.7088314122514\n"
     ]
    }
   ],
   "source": [
    "# Z is the linkage matrix from your hierarchical clustering\n",
    "# The 4th column (Z[:, 2]) contains the distances at which clusters are merged\n",
    "heights = Z[:, 2]\n",
    "\n",
    "# Find the height at which the number of clusters is 2 and 3\n",
    "print(\"Height for k=2:\", heights[-2])  # second-to-last merge\n",
    "print(\"Height for k=3:\", heights[-3])  # third-to-last merge"
   ]
  },
  {
   "cell_type": "markdown",
   "id": "f3447b6b-b40a-4771-bddf-ab1ea3afa7c4",
   "metadata": {},
   "source": [
    "#### d. How many clusters did your method find?"
   ]
  },
  {
   "cell_type": "markdown",
   "id": "91eab992-1fce-403f-b38a-99b3fdb0fe71",
   "metadata": {},
   "source": [
    "I found that there are 2 distinct clusters if cut off at a height of 300. However, if the height is cut off at a lower height of 100 there are about 4 -5 clusters."
   ]
  },
  {
   "cell_type": "markdown",
   "id": "f4052021-1bb5-4365-a2e8-c7899ac053dc",
   "metadata": {},
   "source": [
    "##### i. If you ran a method that requires you to select the number of clusters (k), how did changing this value change the results? Compare cluster membership at each k to investigate this"
   ]
  },
  {
   "cell_type": "markdown",
   "id": "f74bd7aa-c0f5-4e43-a280-2f3f85ee5c3c",
   "metadata": {},
   "source": [
    "When changing from K=2 to K=3 the second clusters split into two smaller clusters and the first one stayed the same. This shows that the first cluster is more cohesive while the second one is less cohesive and split apart when increasing K."
   ]
  },
  {
   "cell_type": "markdown",
   "id": "bbec8f6a-c3bc-4ccd-bcd3-f3a3b88c9519",
   "metadata": {},
   "source": [
    "##### ii. If you ran a method that selects k for you, describe why it chose that k. Vary the method parameters to get different numbers of cluster. How did these changes impact your results?"
   ]
  },
  {
   "cell_type": "markdown",
   "id": "316e5cc9-3af3-4da6-aca6-571b1daba366",
   "metadata": {},
   "source": [
    "The method I chose to use does not select k for me and instead the k number of clusters is based on the height cutoff that I decided. The height cutoff is about 430 for k=2 and about 300 for k=3."
   ]
  },
  {
   "cell_type": "markdown",
   "id": "a5ca5b03-663b-4f78-b1a5-796bea0e2052",
   "metadata": {},
   "source": [
    "#### e. Rerun each clustering method using different numbers of genes. Try 10, 100, 1000, and 10000 genes."
   ]
  },
  {
   "cell_type": "code",
   "execution_count": 131,
   "id": "a8463f0b-67cc-46a1-8821-49afc384e145",
   "metadata": {},
   "outputs": [],
   "source": [
    "# Modify the number of genes to select\n",
    "gene_counts = [10, 100, 1000, 10000]\n",
    "\n",
    "cluster_results = {}\n",
    "\n",
    "for gene_count in gene_counts:\n",
    "    # Subset the expression data to the top variable genes\n",
    "    top_genes = gene_variances.nlargest(gene_count).index\n",
    "    subset_expression = expression_df.loc[top_genes]\n",
    "\n",
    "    # Transpose so that samples are rows and genes are columns\n",
    "    subset_expression_T = subset_expression.T\n",
    "    \n",
    "    # Standardize the data\n",
    "    scaler = StandardScaler()\n",
    "    X_scaled = scaler.fit_transform(subset_expression_T)\n",
    "    \n",
    "    # Perform hierarchical clustering (or K-means, if you prefer)\n",
    "    Z = linkage(X_scaled, method='ward')\n",
    "\n",
    "    # Store clustering results for 3 clusters (as an example, you can vary this)\n",
    "    clusters = fcluster(Z, 3, criterion='maxclust')\n",
    "    cluster_results[f'{gene_count}_genes'] = clusters"
   ]
  },
  {
   "cell_type": "markdown",
   "id": "692a6a65-6cbf-469b-8265-57e97673380d",
   "metadata": {},
   "source": [
    "##### i. Compare your results. How did the number of genes affect clustering?"
   ]
  },
  {
   "cell_type": "markdown",
   "id": "4152d823-16f0-4a23-b85d-b4e53e00555c",
   "metadata": {},
   "source": [
    "With the small number of genes like 10 and 100 there were simplier clusters that are clearer to see. However, it was lacking detail and missing more specific variation information because of the simplification.\n",
    "\n",
    "With gene count at 1,000 there were more balanced clustering with a good amount of informative cluster spread and showed specific subgroups within the clusters.\n",
    "\n",
    "With gene count at 10,000 there were a lot more subtle specific groups within the samples and showed multiple subclusters compared to the lesser amounts of gene samples. Although there are more details to observe there is also too much and many clusters are very small and lead to vague variation between the specific subclusters."
   ]
  },
  {
   "cell_type": "markdown",
   "id": "632bc162-d58e-462f-8152-82df7604ea67",
   "metadata": {},
   "source": [
    "##### ii. To do this, perform a chi-squared test on each pair of clustering results. Provide these results in a table in your writeup."
   ]
  },
  {
   "cell_type": "code",
   "execution_count": 133,
   "id": "fe3ee81c-355e-42a4-99ce-a27de99245e9",
   "metadata": {},
   "outputs": [
    {
     "name": "stdout",
     "output_type": "stream",
     "text": [
      "      Comparison        Chi2       p-value\n",
      "0      10 vs 100  152.024691  7.495801e-32\n",
      "1     10 vs 1000  188.000000  1.425746e-39\n",
      "2    10 vs 10000  188.000000  1.425746e-39\n",
      "3    100 vs 1000  152.024691  7.495801e-32\n",
      "4   100 vs 10000  152.024691  7.495801e-32\n",
      "5  1000 vs 10000  188.000000  1.425746e-39\n"
     ]
    }
   ],
   "source": [
    "# Compare clustering results between different gene counts using a chi-squared test\n",
    "chi2_results = []\n",
    "\n",
    "for i in range(len(gene_counts)):\n",
    "    for j in range(i + 1, len(gene_counts)):\n",
    "        contingency_table = pd.crosstab(cluster_results[f'{gene_counts[i]}_genes'],\n",
    "                                        cluster_results[f'{gene_counts[j]}_genes'])\n",
    "        chi2, p, _, _ = chi2_contingency(contingency_table)\n",
    "        chi2_results.append({\n",
    "            'Comparison': f'{gene_counts[i]} vs {gene_counts[j]}',\n",
    "            'Chi2': chi2,\n",
    "            'p-value': p\n",
    "        })\n",
    "\n",
    "# Convert to a DataFrame to display the results\n",
    "chi2_df = pd.DataFrame(chi2_results)\n",
    "print(chi2_df)"
   ]
  },
  {
   "cell_type": "markdown",
   "id": "12e5009f-2e5d-4db7-a29b-72d9ec1b2940",
   "metadata": {},
   "source": [
    "##### iii. Create an alluvial diagram (Sankey plot) to visualize how the different clustering setups changed cluster memberships for each sample. Each column should be 1 clustering result, and the samples create the ribbons/layers."
   ]
  },
  {
   "cell_type": "code",
   "execution_count": 135,
   "id": "bd812cac-c556-4782-bb16-c740ecb260eb",
   "metadata": {},
   "outputs": [
    {
     "data": {
      "application/vnd.plotly.v1+json": {
       "config": {
        "plotlyServerURL": "https://plot.ly"
       },
       "data": [
        {
         "link": {
          "source": [
           0,
           1,
           2,
           2,
           0,
           1,
           2,
           2,
           0,
           1,
           2
          ],
          "target": [
           3,
           5,
           4,
           5,
           6,
           8,
           7,
           8,
           11,
           10,
           9
          ],
          "value": [
           63,
           4,
           25,
           2,
           63,
           25,
           4,
           2,
           63,
           4,
           27
          ]
         },
         "node": {
          "color": "blue",
          "label": [
           "10 Genes - Cluster 1",
           "10 Genes - Cluster 2",
           "10 Genes - Cluster 3",
           "100 Genes - Cluster 1",
           "100 Genes - Cluster 2",
           "100 Genes - Cluster 3",
           "1000 Genes - Cluster 1",
           "1000 Genes - Cluster 2",
           "1000 Genes - Cluster 3",
           "10000 Genes - Cluster 1",
           "10000 Genes - Cluster 2",
           "10000 Genes - Cluster 3"
          ],
          "line": {
           "color": "black",
           "width": 0.5
          },
          "pad": 15,
          "thickness": 20
         },
         "type": "sankey"
        }
       ],
       "layout": {
        "autosize": true,
        "font": {
         "size": 10
        },
        "template": {
         "data": {
          "bar": [
           {
            "error_x": {
             "color": "#2a3f5f"
            },
            "error_y": {
             "color": "#2a3f5f"
            },
            "marker": {
             "line": {
              "color": "#E5ECF6",
              "width": 0.5
             },
             "pattern": {
              "fillmode": "overlay",
              "size": 10,
              "solidity": 0.2
             }
            },
            "type": "bar"
           }
          ],
          "barpolar": [
           {
            "marker": {
             "line": {
              "color": "#E5ECF6",
              "width": 0.5
             },
             "pattern": {
              "fillmode": "overlay",
              "size": 10,
              "solidity": 0.2
             }
            },
            "type": "barpolar"
           }
          ],
          "carpet": [
           {
            "aaxis": {
             "endlinecolor": "#2a3f5f",
             "gridcolor": "white",
             "linecolor": "white",
             "minorgridcolor": "white",
             "startlinecolor": "#2a3f5f"
            },
            "baxis": {
             "endlinecolor": "#2a3f5f",
             "gridcolor": "white",
             "linecolor": "white",
             "minorgridcolor": "white",
             "startlinecolor": "#2a3f5f"
            },
            "type": "carpet"
           }
          ],
          "choropleth": [
           {
            "colorbar": {
             "outlinewidth": 0,
             "ticks": ""
            },
            "type": "choropleth"
           }
          ],
          "contour": [
           {
            "colorbar": {
             "outlinewidth": 0,
             "ticks": ""
            },
            "colorscale": [
             [
              0,
              "#0d0887"
             ],
             [
              0.1111111111111111,
              "#46039f"
             ],
             [
              0.2222222222222222,
              "#7201a8"
             ],
             [
              0.3333333333333333,
              "#9c179e"
             ],
             [
              0.4444444444444444,
              "#bd3786"
             ],
             [
              0.5555555555555556,
              "#d8576b"
             ],
             [
              0.6666666666666666,
              "#ed7953"
             ],
             [
              0.7777777777777778,
              "#fb9f3a"
             ],
             [
              0.8888888888888888,
              "#fdca26"
             ],
             [
              1,
              "#f0f921"
             ]
            ],
            "type": "contour"
           }
          ],
          "contourcarpet": [
           {
            "colorbar": {
             "outlinewidth": 0,
             "ticks": ""
            },
            "type": "contourcarpet"
           }
          ],
          "heatmap": [
           {
            "colorbar": {
             "outlinewidth": 0,
             "ticks": ""
            },
            "colorscale": [
             [
              0,
              "#0d0887"
             ],
             [
              0.1111111111111111,
              "#46039f"
             ],
             [
              0.2222222222222222,
              "#7201a8"
             ],
             [
              0.3333333333333333,
              "#9c179e"
             ],
             [
              0.4444444444444444,
              "#bd3786"
             ],
             [
              0.5555555555555556,
              "#d8576b"
             ],
             [
              0.6666666666666666,
              "#ed7953"
             ],
             [
              0.7777777777777778,
              "#fb9f3a"
             ],
             [
              0.8888888888888888,
              "#fdca26"
             ],
             [
              1,
              "#f0f921"
             ]
            ],
            "type": "heatmap"
           }
          ],
          "heatmapgl": [
           {
            "colorbar": {
             "outlinewidth": 0,
             "ticks": ""
            },
            "colorscale": [
             [
              0,
              "#0d0887"
             ],
             [
              0.1111111111111111,
              "#46039f"
             ],
             [
              0.2222222222222222,
              "#7201a8"
             ],
             [
              0.3333333333333333,
              "#9c179e"
             ],
             [
              0.4444444444444444,
              "#bd3786"
             ],
             [
              0.5555555555555556,
              "#d8576b"
             ],
             [
              0.6666666666666666,
              "#ed7953"
             ],
             [
              0.7777777777777778,
              "#fb9f3a"
             ],
             [
              0.8888888888888888,
              "#fdca26"
             ],
             [
              1,
              "#f0f921"
             ]
            ],
            "type": "heatmapgl"
           }
          ],
          "histogram": [
           {
            "marker": {
             "pattern": {
              "fillmode": "overlay",
              "size": 10,
              "solidity": 0.2
             }
            },
            "type": "histogram"
           }
          ],
          "histogram2d": [
           {
            "colorbar": {
             "outlinewidth": 0,
             "ticks": ""
            },
            "colorscale": [
             [
              0,
              "#0d0887"
             ],
             [
              0.1111111111111111,
              "#46039f"
             ],
             [
              0.2222222222222222,
              "#7201a8"
             ],
             [
              0.3333333333333333,
              "#9c179e"
             ],
             [
              0.4444444444444444,
              "#bd3786"
             ],
             [
              0.5555555555555556,
              "#d8576b"
             ],
             [
              0.6666666666666666,
              "#ed7953"
             ],
             [
              0.7777777777777778,
              "#fb9f3a"
             ],
             [
              0.8888888888888888,
              "#fdca26"
             ],
             [
              1,
              "#f0f921"
             ]
            ],
            "type": "histogram2d"
           }
          ],
          "histogram2dcontour": [
           {
            "colorbar": {
             "outlinewidth": 0,
             "ticks": ""
            },
            "colorscale": [
             [
              0,
              "#0d0887"
             ],
             [
              0.1111111111111111,
              "#46039f"
             ],
             [
              0.2222222222222222,
              "#7201a8"
             ],
             [
              0.3333333333333333,
              "#9c179e"
             ],
             [
              0.4444444444444444,
              "#bd3786"
             ],
             [
              0.5555555555555556,
              "#d8576b"
             ],
             [
              0.6666666666666666,
              "#ed7953"
             ],
             [
              0.7777777777777778,
              "#fb9f3a"
             ],
             [
              0.8888888888888888,
              "#fdca26"
             ],
             [
              1,
              "#f0f921"
             ]
            ],
            "type": "histogram2dcontour"
           }
          ],
          "mesh3d": [
           {
            "colorbar": {
             "outlinewidth": 0,
             "ticks": ""
            },
            "type": "mesh3d"
           }
          ],
          "parcoords": [
           {
            "line": {
             "colorbar": {
              "outlinewidth": 0,
              "ticks": ""
             }
            },
            "type": "parcoords"
           }
          ],
          "pie": [
           {
            "automargin": true,
            "type": "pie"
           }
          ],
          "scatter": [
           {
            "fillpattern": {
             "fillmode": "overlay",
             "size": 10,
             "solidity": 0.2
            },
            "type": "scatter"
           }
          ],
          "scatter3d": [
           {
            "line": {
             "colorbar": {
              "outlinewidth": 0,
              "ticks": ""
             }
            },
            "marker": {
             "colorbar": {
              "outlinewidth": 0,
              "ticks": ""
             }
            },
            "type": "scatter3d"
           }
          ],
          "scattercarpet": [
           {
            "marker": {
             "colorbar": {
              "outlinewidth": 0,
              "ticks": ""
             }
            },
            "type": "scattercarpet"
           }
          ],
          "scattergeo": [
           {
            "marker": {
             "colorbar": {
              "outlinewidth": 0,
              "ticks": ""
             }
            },
            "type": "scattergeo"
           }
          ],
          "scattergl": [
           {
            "marker": {
             "colorbar": {
              "outlinewidth": 0,
              "ticks": ""
             }
            },
            "type": "scattergl"
           }
          ],
          "scattermapbox": [
           {
            "marker": {
             "colorbar": {
              "outlinewidth": 0,
              "ticks": ""
             }
            },
            "type": "scattermapbox"
           }
          ],
          "scatterpolar": [
           {
            "marker": {
             "colorbar": {
              "outlinewidth": 0,
              "ticks": ""
             }
            },
            "type": "scatterpolar"
           }
          ],
          "scatterpolargl": [
           {
            "marker": {
             "colorbar": {
              "outlinewidth": 0,
              "ticks": ""
             }
            },
            "type": "scatterpolargl"
           }
          ],
          "scatterternary": [
           {
            "marker": {
             "colorbar": {
              "outlinewidth": 0,
              "ticks": ""
             }
            },
            "type": "scatterternary"
           }
          ],
          "surface": [
           {
            "colorbar": {
             "outlinewidth": 0,
             "ticks": ""
            },
            "colorscale": [
             [
              0,
              "#0d0887"
             ],
             [
              0.1111111111111111,
              "#46039f"
             ],
             [
              0.2222222222222222,
              "#7201a8"
             ],
             [
              0.3333333333333333,
              "#9c179e"
             ],
             [
              0.4444444444444444,
              "#bd3786"
             ],
             [
              0.5555555555555556,
              "#d8576b"
             ],
             [
              0.6666666666666666,
              "#ed7953"
             ],
             [
              0.7777777777777778,
              "#fb9f3a"
             ],
             [
              0.8888888888888888,
              "#fdca26"
             ],
             [
              1,
              "#f0f921"
             ]
            ],
            "type": "surface"
           }
          ],
          "table": [
           {
            "cells": {
             "fill": {
              "color": "#EBF0F8"
             },
             "line": {
              "color": "white"
             }
            },
            "header": {
             "fill": {
              "color": "#C8D4E3"
             },
             "line": {
              "color": "white"
             }
            },
            "type": "table"
           }
          ]
         },
         "layout": {
          "annotationdefaults": {
           "arrowcolor": "#2a3f5f",
           "arrowhead": 0,
           "arrowwidth": 1
          },
          "autotypenumbers": "strict",
          "coloraxis": {
           "colorbar": {
            "outlinewidth": 0,
            "ticks": ""
           }
          },
          "colorscale": {
           "diverging": [
            [
             0,
             "#8e0152"
            ],
            [
             0.1,
             "#c51b7d"
            ],
            [
             0.2,
             "#de77ae"
            ],
            [
             0.3,
             "#f1b6da"
            ],
            [
             0.4,
             "#fde0ef"
            ],
            [
             0.5,
             "#f7f7f7"
            ],
            [
             0.6,
             "#e6f5d0"
            ],
            [
             0.7,
             "#b8e186"
            ],
            [
             0.8,
             "#7fbc41"
            ],
            [
             0.9,
             "#4d9221"
            ],
            [
             1,
             "#276419"
            ]
           ],
           "sequential": [
            [
             0,
             "#0d0887"
            ],
            [
             0.1111111111111111,
             "#46039f"
            ],
            [
             0.2222222222222222,
             "#7201a8"
            ],
            [
             0.3333333333333333,
             "#9c179e"
            ],
            [
             0.4444444444444444,
             "#bd3786"
            ],
            [
             0.5555555555555556,
             "#d8576b"
            ],
            [
             0.6666666666666666,
             "#ed7953"
            ],
            [
             0.7777777777777778,
             "#fb9f3a"
            ],
            [
             0.8888888888888888,
             "#fdca26"
            ],
            [
             1,
             "#f0f921"
            ]
           ],
           "sequentialminus": [
            [
             0,
             "#0d0887"
            ],
            [
             0.1111111111111111,
             "#46039f"
            ],
            [
             0.2222222222222222,
             "#7201a8"
            ],
            [
             0.3333333333333333,
             "#9c179e"
            ],
            [
             0.4444444444444444,
             "#bd3786"
            ],
            [
             0.5555555555555556,
             "#d8576b"
            ],
            [
             0.6666666666666666,
             "#ed7953"
            ],
            [
             0.7777777777777778,
             "#fb9f3a"
            ],
            [
             0.8888888888888888,
             "#fdca26"
            ],
            [
             1,
             "#f0f921"
            ]
           ]
          },
          "colorway": [
           "#636efa",
           "#EF553B",
           "#00cc96",
           "#ab63fa",
           "#FFA15A",
           "#19d3f3",
           "#FF6692",
           "#B6E880",
           "#FF97FF",
           "#FECB52"
          ],
          "font": {
           "color": "#2a3f5f"
          },
          "geo": {
           "bgcolor": "white",
           "lakecolor": "white",
           "landcolor": "#E5ECF6",
           "showlakes": true,
           "showland": true,
           "subunitcolor": "white"
          },
          "hoverlabel": {
           "align": "left"
          },
          "hovermode": "closest",
          "mapbox": {
           "style": "light"
          },
          "paper_bgcolor": "white",
          "plot_bgcolor": "#E5ECF6",
          "polar": {
           "angularaxis": {
            "gridcolor": "white",
            "linecolor": "white",
            "ticks": ""
           },
           "bgcolor": "#E5ECF6",
           "radialaxis": {
            "gridcolor": "white",
            "linecolor": "white",
            "ticks": ""
           }
          },
          "scene": {
           "xaxis": {
            "backgroundcolor": "#E5ECF6",
            "gridcolor": "white",
            "gridwidth": 2,
            "linecolor": "white",
            "showbackground": true,
            "ticks": "",
            "zerolinecolor": "white"
           },
           "yaxis": {
            "backgroundcolor": "#E5ECF6",
            "gridcolor": "white",
            "gridwidth": 2,
            "linecolor": "white",
            "showbackground": true,
            "ticks": "",
            "zerolinecolor": "white"
           },
           "zaxis": {
            "backgroundcolor": "#E5ECF6",
            "gridcolor": "white",
            "gridwidth": 2,
            "linecolor": "white",
            "showbackground": true,
            "ticks": "",
            "zerolinecolor": "white"
           }
          },
          "shapedefaults": {
           "line": {
            "color": "#2a3f5f"
           }
          },
          "ternary": {
           "aaxis": {
            "gridcolor": "white",
            "linecolor": "white",
            "ticks": ""
           },
           "baxis": {
            "gridcolor": "white",
            "linecolor": "white",
            "ticks": ""
           },
           "bgcolor": "#E5ECF6",
           "caxis": {
            "gridcolor": "white",
            "linecolor": "white",
            "ticks": ""
           }
          },
          "title": {
           "x": 0.05
          },
          "xaxis": {
           "automargin": true,
           "gridcolor": "white",
           "linecolor": "white",
           "ticks": "",
           "title": {
            "standoff": 15
           },
           "zerolinecolor": "white",
           "zerolinewidth": 2
          },
          "yaxis": {
           "automargin": true,
           "gridcolor": "white",
           "linecolor": "white",
           "ticks": "",
           "title": {
            "standoff": 15
           },
           "zerolinecolor": "white",
           "zerolinewidth": 2
          }
         }
        },
        "title": {
         "text": "Sankey Diagram of Cluster Membership Across Different Gene Counts"
        }
       }
      },
      "image/png": "[encoded data removed]",
      "text/html": [
       "<div>                            <div id=\"7808a2d0-7eeb-4369-825d-25717ce5fde3\" class=\"plotly-graph-div\" style=\"height:525px; width:100%;\"></div>            <script type=\"text/javascript\">                require([\"plotly\"], function(Plotly) {                    window.PLOTLYENV=window.PLOTLYENV || {};                                    if (document.getElementById(\"7808a2d0-7eeb-4369-825d-25717ce5fde3\")) {                    Plotly.newPlot(                        \"7808a2d0-7eeb-4369-825d-25717ce5fde3\",                        [{\"link\":{\"source\":[0,1,2,2,0,1,2,2,0,1,2],\"target\":[3,5,4,5,6,8,7,8,11,10,9],\"value\":[63,4,25,2,63,25,4,2,63,4,27]},\"node\":{\"color\":\"blue\",\"label\":[\"10 Genes - Cluster 1\",\"10 Genes - Cluster 2\",\"10 Genes - Cluster 3\",\"100 Genes - Cluster 1\",\"100 Genes - Cluster 2\",\"100 Genes - Cluster 3\",\"1000 Genes - Cluster 1\",\"1000 Genes - Cluster 2\",\"1000 Genes - Cluster 3\",\"10000 Genes - Cluster 1\",\"10000 Genes - Cluster 2\",\"10000 Genes - Cluster 3\"],\"line\":{\"color\":\"black\",\"width\":0.5},\"pad\":15,\"thickness\":20},\"type\":\"sankey\"}],                        {\"template\":{\"data\":{\"histogram2dcontour\":[{\"type\":\"histogram2dcontour\",\"colorbar\":{\"outlinewidth\":0,\"ticks\":\"\"},\"colorscale\":[[0.0,\"#0d0887\"],[0.1111111111111111,\"#46039f\"],[0.2222222222222222,\"#7201a8\"],[0.3333333333333333,\"#9c179e\"],[0.4444444444444444,\"#bd3786\"],[0.5555555555555556,\"#d8576b\"],[0.6666666666666666,\"#ed7953\"],[0.7777777777777778,\"#fb9f3a\"],[0.8888888888888888,\"#fdca26\"],[1.0,\"#f0f921\"]]}],\"choropleth\":[{\"type\":\"choropleth\",\"colorbar\":{\"outlinewidth\":0,\"ticks\":\"\"}}],\"histogram2d\":[{\"type\":\"histogram2d\",\"colorbar\":{\"outlinewidth\":0,\"ticks\":\"\"},\"colorscale\":[[0.0,\"#0d0887\"],[0.1111111111111111,\"#46039f\"],[0.2222222222222222,\"#7201a8\"],[0.3333333333333333,\"#9c179e\"],[0.4444444444444444,\"#bd3786\"],[0.5555555555555556,\"#d8576b\"],[0.6666666666666666,\"#ed7953\"],[0.7777777777777778,\"#fb9f3a\"],[0.8888888888888888,\"#fdca26\"],[1.0,\"#f0f921\"]]}],\"heatmap\":[{\"type\":\"heatmap\",\"colorbar\":{\"outlinewidth\":0,\"ticks\":\"\"},\"colorscale\":[[0.0,\"#0d0887\"],[0.1111111111111111,\"#46039f\"],[0.2222222222222222,\"#7201a8\"],[0.3333333333333333,\"#9c179e\"],[0.4444444444444444,\"#bd3786\"],[0.5555555555555556,\"#d8576b\"],[0.6666666666666666,\"#ed7953\"],[0.7777777777777778,\"#fb9f3a\"],[0.8888888888888888,\"#fdca26\"],[1.0,\"#f0f921\"]]}],\"heatmapgl\":[{\"type\":\"heatmapgl\",\"colorbar\":{\"outlinewidth\":0,\"ticks\":\"\"},\"colorscale\":[[0.0,\"#0d0887\"],[0.1111111111111111,\"#46039f\"],[0.2222222222222222,\"#7201a8\"],[0.3333333333333333,\"#9c179e\"],[0.4444444444444444,\"#bd3786\"],[0.5555555555555556,\"#d8576b\"],[0.6666666666666666,\"#ed7953\"],[0.7777777777777778,\"#fb9f3a\"],[0.8888888888888888,\"#fdca26\"],[1.0,\"#f0f921\"]]}],\"contourcarpet\":[{\"type\":\"contourcarpet\",\"colorbar\":{\"outlinewidth\":0,\"ticks\":\"\"}}],\"contour\":[{\"type\":\"contour\",\"colorbar\":{\"outlinewidth\":0,\"ticks\":\"\"},\"colorscale\":[[0.0,\"#0d0887\"],[0.1111111111111111,\"#46039f\"],[0.2222222222222222,\"#7201a8\"],[0.3333333333333333,\"#9c179e\"],[0.4444444444444444,\"#bd3786\"],[0.5555555555555556,\"#d8576b\"],[0.6666666666666666,\"#ed7953\"],[0.7777777777777778,\"#fb9f3a\"],[0.8888888888888888,\"#fdca26\"],[1.0,\"#f0f921\"]]}],\"surface\":[{\"type\":\"surface\",\"colorbar\":{\"outlinewidth\":0,\"ticks\":\"\"},\"colorscale\":[[0.0,\"#0d0887\"],[0.1111111111111111,\"#46039f\"],[0.2222222222222222,\"#7201a8\"],[0.3333333333333333,\"#9c179e\"],[0.4444444444444444,\"#bd3786\"],[0.5555555555555556,\"#d8576b\"],[0.6666666666666666,\"#ed7953\"],[0.7777777777777778,\"#fb9f3a\"],[0.8888888888888888,\"#fdca26\"],[1.0,\"#f0f921\"]]}],\"mesh3d\":[{\"type\":\"mesh3d\",\"colorbar\":{\"outlinewidth\":0,\"ticks\":\"\"}}],\"scatter\":[{\"fillpattern\":{\"fillmode\":\"overlay\",\"size\":10,\"solidity\":0.2},\"type\":\"scatter\"}],\"parcoords\":[{\"type\":\"parcoords\",\"line\":{\"colorbar\":{\"outlinewidth\":0,\"ticks\":\"\"}}}],\"scatterpolargl\":[{\"type\":\"scatterpolargl\",\"marker\":{\"colorbar\":{\"outlinewidth\":0,\"ticks\":\"\"}}}],\"bar\":[{\"error_x\":{\"color\":\"#2a3f5f\"},\"error_y\":{\"color\":\"#2a3f5f\"},\"marker\":{\"line\":{\"color\":\"#E5ECF6\",\"width\":0.5},\"pattern\":{\"fillmode\":\"overlay\",\"size\":10,\"solidity\":0.2}},\"type\":\"bar\"}],\"scattergeo\":[{\"type\":\"scattergeo\",\"marker\":{\"colorbar\":{\"outlinewidth\":0,\"ticks\":\"\"}}}],\"scatterpolar\":[{\"type\":\"scatterpolar\",\"marker\":{\"colorbar\":{\"outlinewidth\":0,\"ticks\":\"\"}}}],\"histogram\":[{\"marker\":{\"pattern\":{\"fillmode\":\"overlay\",\"size\":10,\"solidity\":0.2}},\"type\":\"histogram\"}],\"scattergl\":[{\"type\":\"scattergl\",\"marker\":{\"colorbar\":{\"outlinewidth\":0,\"ticks\":\"\"}}}],\"scatter3d\":[{\"type\":\"scatter3d\",\"line\":{\"colorbar\":{\"outlinewidth\":0,\"ticks\":\"\"}},\"marker\":{\"colorbar\":{\"outlinewidth\":0,\"ticks\":\"\"}}}],\"scattermapbox\":[{\"type\":\"scattermapbox\",\"marker\":{\"colorbar\":{\"outlinewidth\":0,\"ticks\":\"\"}}}],\"scatterternary\":[{\"type\":\"scatterternary\",\"marker\":{\"colorbar\":{\"outlinewidth\":0,\"ticks\":\"\"}}}],\"scattercarpet\":[{\"type\":\"scattercarpet\",\"marker\":{\"colorbar\":{\"outlinewidth\":0,\"ticks\":\"\"}}}],\"carpet\":[{\"aaxis\":{\"endlinecolor\":\"#2a3f5f\",\"gridcolor\":\"white\",\"linecolor\":\"white\",\"minorgridcolor\":\"white\",\"startlinecolor\":\"#2a3f5f\"},\"baxis\":{\"endlinecolor\":\"#2a3f5f\",\"gridcolor\":\"white\",\"linecolor\":\"white\",\"minorgridcolor\":\"white\",\"startlinecolor\":\"#2a3f5f\"},\"type\":\"carpet\"}],\"table\":[{\"cells\":{\"fill\":{\"color\":\"#EBF0F8\"},\"line\":{\"color\":\"white\"}},\"header\":{\"fill\":{\"color\":\"#C8D4E3\"},\"line\":{\"color\":\"white\"}},\"type\":\"table\"}],\"barpolar\":[{\"marker\":{\"line\":{\"color\":\"#E5ECF6\",\"width\":0.5},\"pattern\":{\"fillmode\":\"overlay\",\"size\":10,\"solidity\":0.2}},\"type\":\"barpolar\"}],\"pie\":[{\"automargin\":true,\"type\":\"pie\"}]},\"layout\":{\"autotypenumbers\":\"strict\",\"colorway\":[\"#636efa\",\"#EF553B\",\"#00cc96\",\"#ab63fa\",\"#FFA15A\",\"#19d3f3\",\"#FF6692\",\"#B6E880\",\"#FF97FF\",\"#FECB52\"],\"font\":{\"color\":\"#2a3f5f\"},\"hovermode\":\"closest\",\"hoverlabel\":{\"align\":\"left\"},\"paper_bgcolor\":\"white\",\"plot_bgcolor\":\"#E5ECF6\",\"polar\":{\"bgcolor\":\"#E5ECF6\",\"angularaxis\":{\"gridcolor\":\"white\",\"linecolor\":\"white\",\"ticks\":\"\"},\"radialaxis\":{\"gridcolor\":\"white\",\"linecolor\":\"white\",\"ticks\":\"\"}},\"ternary\":{\"bgcolor\":\"#E5ECF6\",\"aaxis\":{\"gridcolor\":\"white\",\"linecolor\":\"white\",\"ticks\":\"\"},\"baxis\":{\"gridcolor\":\"white\",\"linecolor\":\"white\",\"ticks\":\"\"},\"caxis\":{\"gridcolor\":\"white\",\"linecolor\":\"white\",\"ticks\":\"\"}},\"coloraxis\":{\"colorbar\":{\"outlinewidth\":0,\"ticks\":\"\"}},\"colorscale\":{\"sequential\":[[0.0,\"#0d0887\"],[0.1111111111111111,\"#46039f\"],[0.2222222222222222,\"#7201a8\"],[0.3333333333333333,\"#9c179e\"],[0.4444444444444444,\"#bd3786\"],[0.5555555555555556,\"#d8576b\"],[0.6666666666666666,\"#ed7953\"],[0.7777777777777778,\"#fb9f3a\"],[0.8888888888888888,\"#fdca26\"],[1.0,\"#f0f921\"]],\"sequentialminus\":[[0.0,\"#0d0887\"],[0.1111111111111111,\"#46039f\"],[0.2222222222222222,\"#7201a8\"],[0.3333333333333333,\"#9c179e\"],[0.4444444444444444,\"#bd3786\"],[0.5555555555555556,\"#d8576b\"],[0.6666666666666666,\"#ed7953\"],[0.7777777777777778,\"#fb9f3a\"],[0.8888888888888888,\"#fdca26\"],[1.0,\"#f0f921\"]],\"diverging\":[[0,\"#8e0152\"],[0.1,\"#c51b7d\"],[0.2,\"#de77ae\"],[0.3,\"#f1b6da\"],[0.4,\"#fde0ef\"],[0.5,\"#f7f7f7\"],[0.6,\"#e6f5d0\"],[0.7,\"#b8e186\"],[0.8,\"#7fbc41\"],[0.9,\"#4d9221\"],[1,\"#276419\"]]},\"xaxis\":{\"gridcolor\":\"white\",\"linecolor\":\"white\",\"ticks\":\"\",\"title\":{\"standoff\":15},\"zerolinecolor\":\"white\",\"automargin\":true,\"zerolinewidth\":2},\"yaxis\":{\"gridcolor\":\"white\",\"linecolor\":\"white\",\"ticks\":\"\",\"title\":{\"standoff\":15},\"zerolinecolor\":\"white\",\"automargin\":true,\"zerolinewidth\":2},\"scene\":{\"xaxis\":{\"backgroundcolor\":\"#E5ECF6\",\"gridcolor\":\"white\",\"linecolor\":\"white\",\"showbackground\":true,\"ticks\":\"\",\"zerolinecolor\":\"white\",\"gridwidth\":2},\"yaxis\":{\"backgroundcolor\":\"#E5ECF6\",\"gridcolor\":\"white\",\"linecolor\":\"white\",\"showbackground\":true,\"ticks\":\"\",\"zerolinecolor\":\"white\",\"gridwidth\":2},\"zaxis\":{\"backgroundcolor\":\"#E5ECF6\",\"gridcolor\":\"white\",\"linecolor\":\"white\",\"showbackground\":true,\"ticks\":\"\",\"zerolinecolor\":\"white\",\"gridwidth\":2}},\"shapedefaults\":{\"line\":{\"color\":\"#2a3f5f\"}},\"annotationdefaults\":{\"arrowcolor\":\"#2a3f5f\",\"arrowhead\":0,\"arrowwidth\":1},\"geo\":{\"bgcolor\":\"white\",\"landcolor\":\"#E5ECF6\",\"subunitcolor\":\"white\",\"showland\":true,\"showlakes\":true,\"lakecolor\":\"white\"},\"title\":{\"x\":0.05},\"mapbox\":{\"style\":\"light\"}}},\"title\":{\"text\":\"Sankey Diagram of Cluster Membership Across Different Gene Counts\"},\"font\":{\"size\":10}},                        {\"responsive\": true}                    ).then(function(){\n",
       "                            \n",
       "var gd = document.getElementById('7808a2d0-7eeb-4369-825d-25717ce5fde3');\n",
       "var x = new MutationObserver(function (mutations, observer) {{\n",
       "        var display = window.getComputedStyle(gd).display;\n",
       "        if (!display || display === 'none') {{\n",
       "            console.log([gd, 'removed!']);\n",
       "            Plotly.purge(gd);\n",
       "            observer.disconnect();\n",
       "        }}\n",
       "}});\n",
       "\n",
       "// Listen for the removal of the full notebook cells\n",
       "var notebookContainer = gd.closest('#notebook-container');\n",
       "if (notebookContainer) {{\n",
       "    x.observe(notebookContainer, {childList: true});\n",
       "}}\n",
       "\n",
       "// Listen for the clearing of the current output cell\n",
       "var outputEl = gd.closest('.output');\n",
       "if (outputEl) {{\n",
       "    x.observe(outputEl, {childList: true});\n",
       "}}\n",
       "\n",
       "                        })                };                });            </script>        </div>"
      ]
     },
     "metadata": {},
     "output_type": "display_data"
    }
   ],
   "source": [
    "# Prepare data for Sankey diagram (source, target, value)\n",
    "source = []\n",
    "target = []\n",
    "value = []\n",
    "\n",
    "# Loop through gene counts to track how samples move between clusters\n",
    "for i in range(len(gene_counts) - 1):\n",
    "    contingency_table = pd.crosstab(cluster_results[f'{gene_counts[i]}_genes'],\n",
    "                                    cluster_results[f'{gene_counts[i+1]}_genes'])\n",
    "    \n",
    "    for row in contingency_table.index:\n",
    "        for col in contingency_table.columns:\n",
    "            if contingency_table.loc[row, col] > 0:\n",
    "                source.append(row - 1)  # Adjust to start at index 0\n",
    "                target.append(col - 1 + (i + 1) * 3)  # Adjust target to next set of clusters\n",
    "                value.append(contingency_table.loc[row, col])\n",
    "\n",
    "# Create labels for the nodes (clusters at different gene counts)\n",
    "labels = []\n",
    "for count in gene_counts:\n",
    "    labels.extend([f'{count} Genes - Cluster {i}' for i in range(1, 4)])  # 3 clusters at each step\n",
    "\n",
    "# Create the Sankey diagram\n",
    "fig = go.Figure(data=[go.Sankey(\n",
    "    node = dict(\n",
    "        pad = 15,\n",
    "        thickness = 20,\n",
    "        line = dict(color = \"black\", width = 0.5),\n",
    "        label = labels,  # Label the nodes with the gene count and cluster number\n",
    "        color = \"blue\"\n",
    "    ),\n",
    "    link = dict(\n",
    "        source = source,  # Indices correspond to labels, starting from 0\n",
    "        target = target,  # Targets are the next cluster labels\n",
    "        value = value     # The number of samples moving between clusters\n",
    "    ))])\n",
    "\n",
    "fig.update_layout(title_text=\"Sankey Diagram of Cluster Membership Across Different Gene Counts\", font_size=10)\n",
    "fig.show()"
   ]
  },
  {
   "cell_type": "markdown",
   "id": "33387226-4ab3-4217-ac35-8a36c9e19897",
   "metadata": {},
   "source": [
    "### 3. Heatmaps and Dendrograms"
   ]
  },
  {
   "cell_type": "markdown",
   "id": "953d75cb-d6a6-459f-aa15-3960d49ed54c",
   "metadata": {},
   "source": [
    "#### a. Create a heatmap of the 5,000 genes used in clustering. Add an annotation sidebar showing one set of clusters you identified from each clustering method and the sample groups from Assignment 1."
   ]
  },
  {
   "cell_type": "code",
   "execution_count": 223,
   "id": "6683a31e-6f99-46dd-b989-4d405611d6e5",
   "metadata": {},
   "outputs": [
    {
     "name": "stdout",
     "output_type": "stream",
     "text": [
      "'Gene' is already set as index.\n"
     ]
    }
   ],
   "source": [
    "# Ensure sample names match between expression data and metadata\n",
    "expression_samples = expression_df.columns.tolist()  # No need for [1:] since Gene is already the index\n",
    "metadata_samples = metadata_df['refinebio_accession_code'].tolist()\n",
    "\n",
    "# Check if 'Gene' is already the index, if not, set it as index\n",
    "if 'Gene' in expression_df.columns:\n",
    "    expression_df.set_index('Gene', inplace=True)\n",
    "    print(\"Gene column found and set as index.\")\n",
    "else:\n",
    "    print(\"'Gene' is already set as index.\")\n",
    "\n",
    "# Subset data to only common samples\n",
    "expression_df = expression_df[list(common_samples)]\n",
    "metadata_df = metadata_df[metadata_df['refinebio_accession_code'].isin(common_samples)]\n",
    "\n",
    "# Log-transform and transpose expression data\n",
    "log_expression_data = np.log2(expression_df + 1)\n",
    "transposed_data = log_expression_data.T\n",
    "\n",
    "# Subset data to the 5,000 most variable genes\n",
    "gene_variances = expression_df.var(axis=1)\n",
    "top_5000_genes = gene_variances.nlargest(5000).index\n",
    "expression_data = expression_df.loc[top_5000_genes]\n",
    "\n",
    "# Standardize the expression data for clustering\n",
    "scaler = StandardScaler()\n",
    "X_scaled = scaler.fit_transform(expression_data.T)  # Transpose so that samples are rows and genes are columns"
   ]
  },
  {
   "cell_type": "code",
   "execution_count": 227,
   "id": "1e3ec25b-2db5-44eb-ac13-1c12892fdeca",
   "metadata": {},
   "outputs": [
    {
     "name": "stderr",
     "output_type": "stream",
     "text": [
      "C:\\Users\\jakes\\Downloads\\anacondaApp\\Lib\\site-packages\\sklearn\\cluster\\_kmeans.py:1446: UserWarning:\n",
      "\n",
      "KMeans is known to have a memory leak on Windows with MKL, when there are less chunks than available threads. You can avoid it by setting the environment variable OMP_NUM_THREADS=1.\n",
      "\n"
     ]
    }
   ],
   "source": [
    "### Clustering ###\n",
    "# 1. Hierarchical Clustering\n",
    "Z = linkage(X_scaled, method='ward')\n",
    "hierarchical_clusters = fcluster(Z, 2, criterion='maxclust')  # Example with 2 clusters\n",
    "\n",
    "# 2. K-means Clustering\n",
    "kmeans = KMeans(n_clusters=2, random_state=42)\n",
    "kmeans_clusters = kmeans.fit_predict(X_scaled)"
   ]
  },
  {
   "cell_type": "code",
   "execution_count": 229,
   "id": "69b357cf-836b-4e34-9a46-41d340c19797",
   "metadata": {},
   "outputs": [],
   "source": [
    "# Prepare annotations for heatmap (clustering results and group assignments)\n",
    "annotations = pd.DataFrame(index=expression_data.columns)\n",
    "annotations['Hierarchical'] = hierarchical_clusters\n",
    "annotations['KMeans'] = kmeans_clusters\n",
    "annotations['Group'] = metadata_df.set_index('refinebio_accession_code').loc[annotations.index, 'Group']\n",
    "\n",
    "# Create color palettes for annotations\n",
    "unique_groups = annotations['Group'].unique()\n",
    "group_palette = sns.color_palette('Set1', len(unique_groups))\n",
    "group_lut = dict(zip(unique_groups, group_palette))\n",
    "\n",
    "unique_hierarchical = annotations['Hierarchical'].unique()\n",
    "hierarchical_palette = sns.color_palette('Set2', len(unique_hierarchical))\n",
    "hierarchical_lut = dict(zip(unique_hierarchical, hierarchical_palette))\n",
    "\n",
    "unique_kmeans = annotations['KMeans'].unique()\n",
    "kmeans_palette = sns.color_palette('Set3', len(unique_kmeans))\n",
    "kmeans_lut = dict(zip(unique_kmeans, kmeans_palette))\n",
    "\n",
    "# Create a color matrix for the annotations\n",
    "col_colors = pd.DataFrame({\n",
    "    'Group': annotations['Group'].map(group_lut),\n",
    "    'Hierarchical': annotations['Hierarchical'].map(hierarchical_lut),\n",
    "    'KMeans': annotations['KMeans'].map(kmeans_lut)\n",
    "})"
   ]
  },
  {
   "cell_type": "code",
   "execution_count": 251,
   "id": "caa82402-b3ed-44d4-a748-ffc153b55a2f",
   "metadata": {},
   "outputs": [
    {
     "data": {
      "image/png": "[encoded data removed]",
      "text/plain": [
       "<Figure size 1500x1500 with 5 Axes>"
      ]
     },
     "metadata": {},
     "output_type": "display_data"
    }
   ],
   "source": [
    "# Set font scale for better readability\n",
    "sns.set(font_scale=0.7)\n",
    "\n",
    "# Create the heatmap with row and column dendrograms\n",
    "cg = sns.clustermap(\n",
    "    expression_data.T,  # Transpose: genes as rows, samples as columns\n",
    "    row_linkage=Z,  # Row dendrogram (genes)\n",
    "    col_linkage=Z,  # Column dendrogram (samples)\n",
    "    cmap='RdYlBu',  # Color map for better contrast\n",
    "    col_colors=col_colors,  # Annotation colors (Group, Hierarchical, KMeans)\n",
    "    xticklabels=False,  # No x-tick labels (samples)\n",
    "    yticklabels=False,  # No y-tick labels (genes)\n",
    "    figsize=(15, 15)  # Adjust the size of the heatmap\n",
    ")\n",
    "\n",
    "# Add legend for the annotation colors (Group, Hierarchical, KMeans)\n",
    "for label in col_colors.columns:\n",
    "    lut = eval(f\"{label.lower()}_lut\")  # Mapping for each annotation (Group, Hierarchical, KMeans)\n",
    "    handles = [mpatches.Patch(color=lut[name], label=name) for name in lut]  # Create color patches for each group\n",
    "    # Place the legend close to the heatmap with correct positioning\n",
    "    cg.ax_col_dendrogram.legend(\n",
    "        handles,\n",
    "        lut.keys(),  # Show the annotation names\n",
    "        title=label,  # Title for the annotation (Group, Hierarchical, KMeans)\n",
    "        bbox_to_anchor=(1.05, 0.5),  # Adjust legend placement relative to heatmap\n",
    "        loc='center left',  # Position legend on the left of the heatmap\n",
    "        fontsize='small'  # Adjust font size for readability\n",
    "    )\n",
    "\n",
    "# Display the heatmap with adjusted annotations and legends\n",
    "plt.show()"
   ]
  },
  {
   "cell_type": "markdown",
   "id": "d358b76b-79ae-41c1-aec9-960f4b4ed492",
   "metadata": {},
   "source": [
    "### 4. Statistics"
   ]
  },
  {
   "cell_type": "markdown",
   "id": "68242604-2a25-4e8f-949a-2df54abc6c57",
   "metadata": {},
   "source": [
    "#### a. Does cluster membership correlate with the groups you chose in Assignment 1? Perform a chi-squared test of independence to statistically compare the two . Repeat this for each clustering result. Add these results to your table of chi-squared test results."
   ]
  },
  {
   "cell_type": "code",
   "execution_count": null,
   "id": "36349a32-de47-4e6b-9066-81ad666d8317",
   "metadata": {},
   "outputs": [],
   "source": []
  },
  {
   "cell_type": "markdown",
   "id": "60d91281-4bf8-4fcd-9d01-f5336d094b48",
   "metadata": {},
   "source": [
    "#### b. Adjust all statistical test results for multiple hypothesis testing (p.adjust)."
   ]
  },
  {
   "cell_type": "code",
   "execution_count": null,
   "id": "ca07581d-774a-40ac-9384-e06c959d3d12",
   "metadata": {},
   "outputs": [],
   "source": []
  },
  {
   "cell_type": "markdown",
   "id": "3808bb2b-2f33-4f07-aa92-42168b314fd8",
   "metadata": {},
   "source": [
    "### 5. Short Summary\n"
   ]
  },
  {
   "cell_type": "code",
   "execution_count": null,
   "id": "a89e19a2-9bd2-40e7-9a85-ce0c9d927f4f",
   "metadata": {},
   "outputs": [],
   "source": []
  }
 ],
 "metadata": {
  "kernelspec": {
   "display_name": "Python 3 (ipykernel)",
   "language": "python",
   "name": "python3"
  },
  "language_info": {
   "codemirror_mode": {
    "name": "ipython",
    "version": 3
   },
   "file_extension": ".py",
   "mimetype": "text/x-python",
   "name": "python",
   "nbconvert_exporter": "python",
   "pygments_lexer": "ipython3",
   "version": "3.12.4"
  }
 },
 "nbformat": 4,
 "nbformat_minor": 5
}
