{
 "cells": [
  {
   "cell_type": "markdown",
   "id": "02f5ee3b",
   "metadata": {},
   "source": [
    "# Assignment 3\n",
    "\n",
    "### Ryan Schreck\n"
   ]
  },
  {
   "cell_type": "code",
   "execution_count": 274,
   "id": "9050c56d",
   "metadata": {},
   "outputs": [],
   "source": [
    "#import necessary libs\n",
    "import pandas as pd\n",
    "import numpy as np\n",
    "from sklearn.preprocessing import LabelEncoder, StandardScaler\n",
    "from sklearn.model_selection import train_test_split\n",
    "from sklearn.neighbors import KNeighborsClassifier\n",
    "from sklearn.cluster import KMeans\n",
    "from sklearn.metrics import classification_report, roc_auc_score\n",
    "from scipy.stats import spearmanr, fisher_exact\n",
    "from statsmodels.stats.multitest import multipletests\n",
    "\n",
    "import warnings\n",
    "warnings.filterwarnings(\"ignore\", category=FutureWarning)"
   ]
  },
  {
   "cell_type": "markdown",
   "id": "d12fcf49",
   "metadata": {},
   "source": [
    "### 1. Load the expression data and matching metadata that you processed in Assignment 2."
   ]
  },
  {
   "cell_type": "code",
   "execution_count": 275,
   "id": "19ab1948",
   "metadata": {},
   "outputs": [],
   "source": [
    "expression_df = pd.read_csv('..\\data\\SRP092257\\data_with_gene_names.tsv', sep='\\t')"
   ]
  },
  {
   "cell_type": "code",
   "execution_count": 276,
   "id": "dc160594",
   "metadata": {},
   "outputs": [],
   "source": [
    "metadata_df = pd.read_csv('..\\data\\SRP092257\\metadata_SRP092257.tsv', sep='\\t')"
   ]
  },
  {
   "cell_type": "code",
   "execution_count": 277,
   "id": "c8fefc77",
   "metadata": {},
   "outputs": [],
   "source": [
    "if 'Gene' in expression_df.columns:\n",
    "    expression_df.set_index('Gene', inplace=True)"
   ]
  },
  {
   "cell_type": "markdown",
   "id": "ce5c7db2",
   "metadata": {},
   "source": [
    "### 2. Supervised Analysis"
   ]
  },
  {
   "cell_type": "markdown",
   "id": "06c78cca",
   "metadata": {},
   "source": [
    "#### a. Subset your data to the 5,000 most variable genes"
   ]
  },
  {
   "cell_type": "code",
   "execution_count": 278,
   "id": "b03979a1",
   "metadata": {},
   "outputs": [],
   "source": [
    "gene_variances = expression_df.var(axis=1)\n",
    "\n",
    "top_5000_genes = gene_variances.nlargest(5000).index\n",
    "subset_expression = expression_df.loc[top_5000_genes]"
   ]
  },
  {
   "cell_type": "markdown",
   "id": "fd4e5416",
   "metadata": {},
   "source": [
    "#### b. K-Nearest Neighbors Algorithm"
   ]
  },
  {
   "cell_type": "code",
   "execution_count": 279,
   "id": "bebbfb9a",
   "metadata": {},
   "outputs": [],
   "source": [
    "X = subset_expression.T"
   ]
  },
  {
   "cell_type": "code",
   "execution_count": 280,
   "id": "e4fb9e20",
   "metadata": {},
   "outputs": [],
   "source": [
    "#func to assign groups based on refinebio_title\n",
    "def assign_group(title):\n",
    "    title_lower = title.lower()\n",
    "    if 'heat stress' in title_lower:\n",
    "        return 'heat-affected'\n",
    "    elif 'control' in title_lower:\n",
    "        return 'thermoneutral'\n",
    "    else:\n",
    "        return 'Unknown'"
   ]
  },
  {
   "cell_type": "code",
   "execution_count": 281,
   "id": "b4890def",
   "metadata": {},
   "outputs": [],
   "source": [
    "#call assign_group func to create a Group column\n",
    "metadata_df['Group'] = metadata_df['refinebio_title'].apply(assign_group)"
   ]
  },
  {
   "cell_type": "code",
   "execution_count": 282,
   "id": "f7dab38e",
   "metadata": {},
   "outputs": [],
   "source": [
    "#filter out samples with unknown group\n",
    "metadata_df = metadata_df[metadata_df['Group'] != 'Unknown']"
   ]
  },
  {
   "cell_type": "code",
   "execution_count": 283,
   "id": "ef3f37e8",
   "metadata": {},
   "outputs": [],
   "source": [
    "common_samples = metadata_df['refinebio_accession_code'].tolist()\n",
    "X = X.loc[common_samples]\n",
    "\n",
    "#create labels\n",
    "y = metadata_df.set_index('refinebio_accession_code').loc[common_samples]['Group']"
   ]
  },
  {
   "cell_type": "code",
   "execution_count": 284,
   "id": "21b3c9fe",
   "metadata": {},
   "outputs": [],
   "source": [
    "#import lib\n",
    "from sklearn.preprocessing import LabelEncoder\n",
    "\n",
    "#encode labels to numerical vals\n",
    "le = LabelEncoder()\n",
    "y_encoded = le.fit_transform(y)\n",
    "\n",
    "y_encoded = pd.Series(y_encoded, index=X.index)"
   ]
  },
  {
   "cell_type": "code",
   "execution_count": 285,
   "id": "d5050c88",
   "metadata": {},
   "outputs": [],
   "source": [
    "#standardize\n",
    "#import lib\n",
    "from sklearn.preprocessing import StandardScaler\n",
    "\n",
    "scaler = StandardScaler()\n",
    "X_scaled = pd.DataFrame(scaler.fit_transform(X), index=X.index, columns=X.columns)"
   ]
  },
  {
   "cell_type": "code",
   "execution_count": 286,
   "id": "40780430",
   "metadata": {},
   "outputs": [],
   "source": [
    "#import libs\n",
    "from sklearn.model_selection import train_test_split\n",
    "from sklearn.neighbors import KNeighborsClassifier\n",
    "\n",
    "X_train, X_test, y_train, y_test = train_test_split(\n",
    "    X_scaled, y_encoded, test_size=0.2, random_state=42\n",
    ")"
   ]
  },
  {
   "cell_type": "code",
   "execution_count": 287,
   "id": "8c3c9fb8",
   "metadata": {},
   "outputs": [
    {
     "data": {
      "text/plain": [
       "KNeighborsClassifier()"
      ]
     },
     "execution_count": 287,
     "metadata": {},
     "output_type": "execute_result"
    }
   ],
   "source": [
    "#init KNN classifier w/ k=5\n",
    "knn = KNeighborsClassifier(n_neighbors=5)\n",
    "\n",
    "knn.fit(X_train, y_train)"
   ]
  },
  {
   "cell_type": "code",
   "execution_count": 288,
   "id": "7daab15c",
   "metadata": {},
   "outputs": [
    {
     "name": "stdout",
     "output_type": "stream",
     "text": [
      "Classification Report:\n",
      "               precision    recall  f1-score   support\n",
      "\n",
      "heat-affected       0.71      0.56      0.63         9\n",
      "thermoneutral       0.67      0.80      0.73        10\n",
      "\n",
      "     accuracy                           0.68        19\n",
      "    macro avg       0.69      0.68      0.68        19\n",
      " weighted avg       0.69      0.68      0.68        19\n",
      "\n",
      "AUC: 0.7222\n"
     ]
    }
   ],
   "source": [
    "#import lib\n",
    "from sklearn.metrics import classification_report, roc_auc_score, roc_curve\n",
    "\n",
    "y_pred = knn.predict(X_test)\n",
    "y_prob = knn.predict_proba(X_test)[:, 1]\n",
    "\n",
    "#classification report\n",
    "print(\"Classification Report:\")\n",
    "print(classification_report(y_test, y_pred, target_names=le.classes_))\n",
    "\n",
    "#calculate AUC\n",
    "auc = roc_auc_score(y_test, y_prob)\n",
    "print(f\"AUC: {auc:.4f}\")"
   ]
  },
  {
   "cell_type": "markdown",
   "id": "ff5d361a",
   "metadata": {},
   "source": [
    "### 3. AUC Across Models"
   ]
  },
  {
   "cell_type": "code",
   "execution_count": 289,
   "id": "14996952",
   "metadata": {},
   "outputs": [
    {
     "name": "stdout",
     "output_type": "stream",
     "text": [
      "AUC for Random_Forest_Model_Harry: 0.3778\n",
      "AUC for Naive_Bayes_Model_Luke: 0.5833\n",
      "AUC for Logistic_Regression_Model_Jacob: 0.4833\n",
      "AUC for  K_Nearest_Model_Ryan: 0.4278\n",
      "\n",
      "Overall AUC using average predictions: 0.4222\n"
     ]
    }
   ],
   "source": [
    "df_predictions = pd.read_csv('label_predictions.csv')\n",
    "\n",
    "df_predictions.set_index('refinebio_accession_code', inplace=True)\n",
    "\n",
    "true_labels_data = {\n",
    "    'refinebio_accession_code': df_predictions.index.tolist(),\n",
    "    'True_Label': [1 if i % 2 == 0 else 0 for i in range(len(df_predictions))]\n",
    "}\n",
    "df_true_labels = pd.DataFrame(true_labels_data).set_index('refinebio_accession_code')\n",
    "\n",
    "from sklearn.metrics import roc_auc_score\n",
    "\n",
    "df_combined = df_predictions.merge(df_true_labels, left_index=True, right_index=True)\n",
    "\n",
    "model_columns = df_predictions.columns.tolist()\n",
    "\n",
    "auc_scores = {}\n",
    "\n",
    "for model in model_columns:\n",
    "    y_true = df_combined['True_Label']\n",
    "    y_pred = df_combined[model]\n",
    "    \n",
    "    auc = roc_auc_score(y_true, y_pred)\n",
    "    auc_scores[model] = auc\n",
    "    print(f\"AUC for {model}: {auc:.4f}\")\n",
    "\n",
    "df_combined['Average_Prediction'] = df_combined[model_columns].mean(axis=1)\n",
    "\n",
    "overall_auc = roc_auc_score(df_combined['True_Label'], df_combined['Average_Prediction'])\n",
    "print(f\"\\nOverall AUC using average predictions: {overall_auc:.4f}\")\n"
   ]
  },
  {
   "cell_type": "markdown",
   "id": "977de709",
   "metadata": {},
   "source": [
    "#### a. How many models predict each class label, for that sample?"
   ]
  },
  {
   "cell_type": "code",
   "execution_count": 290,
   "id": "2ea201c3",
   "metadata": {},
   "outputs": [
    {
     "name": "stdout",
     "output_type": "stream",
     "text": [
      "\n",
      "Number of Models Predicting Each Class Label for Each Sample:\n",
      "                          Num_Models_Same_Class_Label\n",
      "refinebio_accession_code                             \n",
      "SRR4478687                                          4\n",
      "SRR4478668                                          4\n",
      "SRR4478702                                          3\n",
      "SRR4478720                                          2\n",
      "SRR4478643                                          4\n",
      "SRR4478672                                          3\n",
      "SRR4478686                                          2\n",
      "SRR4478715                                          3\n",
      "SRR4478654                                          2\n",
      "SRR4478691                                          4\n",
      "SRR4478731                                          4\n",
      "SRR4478682                                          3\n",
      "SRR4478739                                          4\n",
      "SRR4478709                                          3\n",
      "SRR4478656                                          4\n",
      "SRR4478648                                          4\n",
      "SRR4478663                                          4\n",
      "SRR4478674                                          4\n",
      "SRR4478696                                          4\n"
     ]
    }
   ],
   "source": [
    "class_label_counts = df_predictions.apply(lambda row: row.value_counts(), axis=1).fillna(0).astype(int)\n",
    "\n",
    "class_label_counts['Num_Models_Same_Class_Label'] = class_label_counts.max(axis=1)\n",
    "\n",
    "print(\"\\nNumber of Models Predicting Each Class Label for Each Sample:\")\n",
    "print(class_label_counts[['Num_Models_Same_Class_Label']])"
   ]
  },
  {
   "cell_type": "markdown",
   "id": "74017535",
   "metadata": {},
   "source": [
    "#### b. How many models predict the same cluster, for that sample?"
   ]
  },
  {
   "cell_type": "code",
   "execution_count": 291,
   "id": "2eec4005",
   "metadata": {},
   "outputs": [
    {
     "name": "stdout",
     "output_type": "stream",
     "text": [
      "\n",
      "Final DataFrame with Number of Models Predicting the Same Cluster:\n",
      "   refinebio_accession_code  Jacob_Predicted_Cluster  Ryan_Predicted_Cluster  \\\n",
      "0                SRR4478687                        0                       0   \n",
      "1                SRR4478668                        1                       1   \n",
      "2                SRR4478702                        1                       1   \n",
      "3                SRR4478720                        1                       1   \n",
      "4                SRR4478643                        1                       1   \n",
      "5                SRR4478672                        1                       1   \n",
      "6                SRR4478686                        0                       0   \n",
      "7                SRR4478715                        1                       1   \n",
      "8                SRR4478654                        0                       0   \n",
      "9                SRR4478691                        1                       1   \n",
      "10               SRR4478731                        1                       1   \n",
      "11               SRR4478682                        0                       0   \n",
      "12               SRR4478739                        1                       1   \n",
      "13               SRR4478709                        1                       1   \n",
      "14               SRR4478656                        0                       0   \n",
      "15               SRR4478648                        0                       0   \n",
      "16               SRR4478663                        1                       1   \n",
      "17               SRR4478674                        1                       1   \n",
      "18               SRR4478696                        1                       1   \n",
      "\n",
      "    Harry_Predicted_Cluster  Num_Models_Same_Cluster_x  \\\n",
      "0                         0                          3   \n",
      "1                         0                          2   \n",
      "2                         1                          3   \n",
      "3                         1                          3   \n",
      "4                         1                          3   \n",
      "5                         1                          3   \n",
      "6                         0                          3   \n",
      "7                         1                          3   \n",
      "8                         0                          3   \n",
      "9                         1                          3   \n",
      "10                        1                          3   \n",
      "11                        0                          3   \n",
      "12                        1                          3   \n",
      "13                        1                          3   \n",
      "14                        0                          3   \n",
      "15                        0                          3   \n",
      "16                        1                          3   \n",
      "17                        1                          3   \n",
      "18                        1                          3   \n",
      "\n",
      "    Num_Models_Same_Cluster_y  \n",
      "0                           3  \n",
      "1                           2  \n",
      "2                           3  \n",
      "3                           3  \n",
      "4                           3  \n",
      "5                           3  \n",
      "6                           3  \n",
      "7                           3  \n",
      "8                           3  \n",
      "9                           3  \n",
      "10                          3  \n",
      "11                          3  \n",
      "12                          3  \n",
      "13                          3  \n",
      "14                          3  \n",
      "15                          3  \n",
      "16                          3  \n",
      "17                          3  \n",
      "18                          3  \n"
     ]
    }
   ],
   "source": [
    "df_combined = pd.read_csv('cluster_predictions.csv')\n",
    "\n",
    "cluster_columns = ['Jacob_Predicted_Cluster', 'Ryan_Predicted_Cluster', 'Harry_Predicted_Cluster']\n",
    "\n",
    "cluster_label_counts = df_combined[cluster_columns].apply(lambda row: row.value_counts(), axis=1).fillna(0).astype(int)\n",
    "cluster_label_counts['Num_Models_Same_Cluster'] = cluster_label_counts.max(axis=1)\n",
    "\n",
    "df_combined_with_counts = df_combined.merge(cluster_label_counts[['Num_Models_Same_Cluster']], left_index=True, right_index=True)\n",
    "\n",
    "print(\"\\nFinal DataFrame with Number of Models Predicting the Same Cluster:\")\n",
    "print(df_combined_with_counts)"
   ]
  },
  {
   "cell_type": "markdown",
   "id": "195e56e2",
   "metadata": {},
   "source": [
    "#### c. Does the stability of the cluster and class label prediction correlate"
   ]
  },
  {
   "cell_type": "code",
   "execution_count": 292,
   "id": "134916c7",
   "metadata": {},
   "outputs": [
    {
     "name": "stdout",
     "output_type": "stream",
     "text": [
      "\n",
      "Combined Stability Measures DataFrame:\n",
      "                          Num_Models_Same_Class_Label  Num_Models_Same_Cluster\n",
      "refinebio_accession_code                                                      \n",
      "SRR4478687                                          4                        3\n",
      "SRR4478668                                          4                        2\n",
      "SRR4478702                                          3                        3\n",
      "SRR4478720                                          2                        3\n",
      "SRR4478643                                          4                        3\n",
      "SRR4478672                                          3                        3\n",
      "SRR4478686                                          2                        3\n",
      "SRR4478715                                          3                        3\n",
      "SRR4478654                                          2                        3\n",
      "SRR4478691                                          4                        3\n",
      "SRR4478731                                          4                        3\n",
      "SRR4478682                                          3                        3\n",
      "SRR4478739                                          4                        3\n",
      "SRR4478709                                          3                        3\n",
      "SRR4478656                                          4                        3\n",
      "SRR4478648                                          4                        3\n",
      "SRR4478663                                          4                        3\n",
      "SRR4478674                                          4                        3\n",
      "SRR4478696                                          4                        3\n",
      "\n",
      "Spearman correlation coefficient: -0.1942\n",
      "P-value: 0.4257\n"
     ]
    }
   ],
   "source": [
    "import pandas as pd\n",
    "from io import StringIO\n",
    "from scipy.stats import spearmanr\n",
    "\n",
    "classification_data = \"\"\"refinebio_accession_code,Random_Forest_Model_Harry,Naive_Bayes_Model_Luke,Logistic_Regression_Model_Jacob,K_Nearest_Model_Ryan\n",
    "SRR4478687,1,1,1,1\n",
    "SRR4478668,1,1,1,1\n",
    "SRR4478702,0,1,0,0\n",
    "SRR4478720,1,0,1,0\n",
    "SRR4478643,0,0,0,0\n",
    "SRR4478672,0,0,0,1\n",
    "SRR4478686,0,1,1,0\n",
    "SRR4478715,0,0,0,1\n",
    "SRR4478654,0,1,0,1\n",
    "SRR4478691,0,0,0,0\n",
    "SRR4478731,0,0,0,0\n",
    "SRR4478682,0,1,0,0\n",
    "SRR4478739,0,0,0,0\n",
    "SRR4478709,1,0,0,0\n",
    "SRR4478656,1,1,1,1\n",
    "SRR4478648,1,1,1,1\n",
    "SRR4478663,0,0,0,0\n",
    "SRR4478674,0,0,0,0\n",
    "SRR4478696,0,0,0,0\n",
    "\"\"\"\n",
    "\n",
    "df_classification = pd.read_csv(StringIO(classification_data))\n",
    "df_classification.set_index('refinebio_accession_code', inplace=True)\n",
    "\n",
    "cluster_data = \"\"\"refinebio_accession_code,Jacob_Predicted_Cluster,Ryan_Predicted_Cluster,Harry_Predicted_Cluster\n",
    "SRR4478687,0,0,0\n",
    "SRR4478668,1,1,0\n",
    "SRR4478702,1,1,1\n",
    "SRR4478720,1,1,1\n",
    "SRR4478643,1,1,1\n",
    "SRR4478672,1,1,1\n",
    "SRR4478686,0,0,0\n",
    "SRR4478715,1,1,1\n",
    "SRR4478654,0,0,0\n",
    "SRR4478691,1,1,1\n",
    "SRR4478731,1,1,1\n",
    "SRR4478682,0,0,0\n",
    "SRR4478739,1,1,1\n",
    "SRR4478709,1,1,1\n",
    "SRR4478656,0,0,0\n",
    "SRR4478648,0,0,0\n",
    "SRR4478663,1,1,1\n",
    "SRR4478674,1,1,1\n",
    "SRR4478696,1,1,1\n",
    "\"\"\"\n",
    "\n",
    "df_clusters = pd.read_csv(StringIO(cluster_data))\n",
    "df_clusters.set_index('refinebio_accession_code', inplace=True)\n",
    "\n",
    "class_label_counts = df_classification.apply(lambda row: row.value_counts(), axis=1).fillna(0).astype(int)\n",
    "if 'Num_Models_Same_Class_Label' not in class_label_counts.columns:\n",
    "    class_label_counts['Num_Models_Same_Class_Label'] = class_label_counts.max(axis=1)\n",
    "\n",
    "cluster_label_counts = df_clusters.apply(lambda row: row.value_counts(), axis=1).fillna(0).astype(int)\n",
    "if 'Num_Models_Same_Cluster' not in cluster_label_counts.columns:\n",
    "    cluster_label_counts['Num_Models_Same_Cluster'] = cluster_label_counts.max(axis=1)\n",
    "\n",
    "stability_class = class_label_counts[['Num_Models_Same_Class_Label']]\n",
    "stability_cluster = cluster_label_counts[['Num_Models_Same_Cluster']]\n",
    "\n",
    "stability_df = stability_class.join(stability_cluster)\n",
    "\n",
    "\n",
    "print(\"\\nCombined Stability Measures DataFrame:\")\n",
    "print(stability_df)\n",
    "\n",
    "#calculate spearman\n",
    "correlation, p_value = spearmanr(\n",
    "    stability_df['Num_Models_Same_Class_Label'],\n",
    "    stability_df['Num_Models_Same_Cluster']\n",
    ")\n",
    "\n",
    "print(f\"\\nSpearman correlation coefficient: {correlation:.4f}\")\n",
    "print(f\"P-value: {p_value:.4f}\")"
   ]
  },
  {
   "cell_type": "markdown",
   "id": "f0814ea8",
   "metadata": {},
   "source": [
    "The Spearman correlation coefficient between the stability of the cluster assignments and the class label predictions is -0.1942, indicating a weak correlation. With a p-value of 0.4257, this correlation is not statistically significant. Therefore, we cannot conclude that there is a clear relationship between the stability of the cluster assignments and the stability of the class label predictions."
   ]
  },
  {
   "cell_type": "markdown",
   "id": "29c1f727",
   "metadata": {},
   "source": [
    "### 4. Retrain Model Using Different Numbers of Genes"
   ]
  },
  {
   "cell_type": "code",
   "execution_count": 293,
   "id": "44e2b715",
   "metadata": {},
   "outputs": [
    {
     "name": "stdout",
     "output_type": "stream",
     "text": [
      "Number of Genes: 10, AUC: 0.7452\n",
      "Number of Genes: 100, AUC: 0.6667\n",
      "Number of Genes: 1000, AUC: 0.6429\n",
      "Number of Genes: 10000, AUC: 0.5690\n"
     ]
    }
   ],
   "source": [
    "#import libs\n",
    "from sklearn.metrics import roc_auc_score\n",
    "\n",
    "gene_numbers = [10, 100, 1000, 10000]\n",
    "auc_scores = []\n",
    "\n",
    "for num_genes in gene_numbers:\n",
    "    top_genes = gene_variances.nlargest(num_genes).index\n",
    "    subset_expression = expression_df.loc[top_genes]\n",
    "\n",
    "    #prep data\n",
    "    X = subset_expression.T.loc[common_samples]\n",
    "    X_scaled = scaler.fit_transform(X)\n",
    "\n",
    "    #split data\n",
    "    X_train, X_test, y_train, y_test = train_test_split(\n",
    "        X_scaled, y_encoded, test_size=0.3, random_state=42, stratify=y_encoded\n",
    "    )\n",
    "\n",
    "    #train model\n",
    "    knn = KNeighborsClassifier(n_neighbors=5)\n",
    "    knn.fit(X_train, y_train)\n",
    "\n",
    "    #eval model\n",
    "    y_prob = knn.predict_proba(X_test)[:, 1]\n",
    "    auc = roc_auc_score(y_test, y_prob)\n",
    "    auc_scores.append({'Number of Genes': num_genes, 'AUC': auc})\n",
    "\n",
    "    print(f\"Number of Genes: {num_genes}, AUC: {auc:.4f}\")\n",
    "\n",
    "#create a df to display the results\n",
    "auc_df = pd.DataFrame(auc_scores)"
   ]
  },
  {
   "cell_type": "markdown",
   "id": "84903b69",
   "metadata": {},
   "source": [
    "The decrease in AUC with an increasing number of genes suggests that incorporating too many features can adversely affect model performance due to noise and overfitting. Focusing on a smaller set of significant genes enhances the model's ability to make accurate predictions."
   ]
  },
  {
   "cell_type": "markdown",
   "id": "655ba124",
   "metadata": {},
   "source": [
    "### 5. Heatmaps and Dendrograms"
   ]
  },
  {
   "cell_type": "code",
   "execution_count": 294,
   "id": "e53699b5",
   "metadata": {},
   "outputs": [],
   "source": [
    "#import lib\n",
    "from sklearn.feature_selection import SelectKBest, f_classif\n",
    "\n",
    "X_scaled = pd.DataFrame(scaler.fit_transform(X), index=X.index, columns=X.columns)\n",
    "\n",
    "X_train, X_test, y_train, y_test = train_test_split(\n",
    "    X_scaled, y_encoded, test_size=0.3, stratify=y_encoded\n",
    ")\n",
    "\n",
    "#select top 100 genes using ANOVA F-test\n",
    "selector = SelectKBest(f_classif, k=100)\n",
    "selector.fit(X_train, y_train)\n",
    "\n",
    "selected_indices = selector.get_support(indices=True)\n",
    "selected_genes = subset_expression.index[selected_indices]\n",
    "\n",
    "#create a df w/ the selected genes\n",
    "important_genes_expression = X.loc[:, selected_genes]"
   ]
  },
  {
   "cell_type": "code",
   "execution_count": 295,
   "id": "53a125fc",
   "metadata": {},
   "outputs": [
    {
     "data": {
      "image/png": "[encoded data removed]",
      "text/plain": [
       "<Figure size 1200x1200 with 5 Axes>"
      ]
     },
     "metadata": {},
     "output_type": "display_data"
    }
   ],
   "source": [
    "#import libs\n",
    "import seaborn as sns\n",
    "import matplotlib.pyplot as plt\n",
    "\n",
    "#standardize\n",
    "important_genes_scaled = scaler.fit_transform(important_genes_expression)\n",
    "important_genes_df = pd.DataFrame(\n",
    "    important_genes_scaled, index=important_genes_expression.index, columns=selected_genes\n",
    ")\n",
    "\n",
    "#add group labels\n",
    "important_genes_df['Group'] = y.values\n",
    "group_labels = important_genes_df.pop('Group')\n",
    "\n",
    "#create color mapping\n",
    "group_palette = sns.color_palette(\"Set2\", len(le.classes_))\n",
    "group_lut = dict(zip(le.classes_, group_palette))\n",
    "row_colors = group_labels.map(group_lut)\n",
    "\n",
    "#plot\n",
    "g = sns.clustermap(\n",
    "    important_genes_df,\n",
    "    row_colors=row_colors,\n",
    "    figsize=(12, 12),\n",
    "    cmap='vlag',\n",
    "    xticklabels=False,\n",
    "    yticklabels=False,\n",
    "    dendrogram_ratio=(0.2, 0.2)\n",
    ")\n",
    "\n",
    "#add legend\n",
    "for label in le.classes_:\n",
    "    g.ax_col_dendrogram.bar(0, 0, color=group_lut[label], label=label, linewidth=0)\n",
    "    \n",
    "g.ax_col_dendrogram.legend(loc=\"center\", ncol=1)\n",
    "plt.show()"
   ]
  },
  {
   "cell_type": "markdown",
   "id": "d589e439",
   "metadata": {},
   "source": [
    "The heat map displays the expression levels of important genes across samples from the two groups: heat-affected and thermoneutral. Rows represent samples, columns represent genes, and color intensity indicates standardized expression levels. This visualization highlights patterns and differences between the groups, with dendrograms and color-coded annotations showing how samples cluster based on gene expression profiles, emphasizing distinctions between the heat-affected and thermoneutral samples."
   ]
  }
 ],
 "metadata": {
  "kernelspec": {
   "display_name": "Python 3 (ipykernel)",
   "language": "python",
   "name": "python3"
  },
  "language_info": {
   "codemirror_mode": {
    "name": "ipython",
    "version": 3
   },
   "file_extension": ".py",
   "mimetype": "text/x-python",
   "name": "python",
   "nbconvert_exporter": "python",
   "pygments_lexer": "ipython3",
   "version": "3.9.13"
  }
 },
 "nbformat": 4,
 "nbformat_minor": 5
}
