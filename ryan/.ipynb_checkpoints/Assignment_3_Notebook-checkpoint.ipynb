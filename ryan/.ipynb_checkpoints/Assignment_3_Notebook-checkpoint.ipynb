{
 "cells": [
  {
   "cell_type": "markdown",
   "id": "85f8ede2",
   "metadata": {},
   "source": [
    "# Assignment 3\n",
    "\n",
    "### Ryan Schreck\n"
   ]
  },
  {
   "cell_type": "code",
   "execution_count": 37,
   "id": "296796c3",
   "metadata": {},
   "outputs": [],
   "source": [
    "import pandas as pd\n",
    "import numpy as np\n",
    "from scipy.stats import chi2_contingency\n",
    "from statsmodels.stats.multitest import multipletests\n",
    "from sklearn.cluster import KMeans\n",
    "from sklearn.preprocessing import StandardScaler\n",
    "import seaborn as sns\n",
    "import matplotlib.pyplot as plt\n",
    "import plotly.graph_objects as go\n",
    "from itertools import combinations\n",
    "from sklearn.metrics import confusion_matrix\n",
    "from scipy.optimize import linear_sum_assignment\n",
    "import plotly.express as px\n",
    "import plotly.graph_objects as go"
   ]
  },
  {
   "cell_type": "markdown",
   "id": "945066a3",
   "metadata": {},
   "source": [
    "### 1. Load the expression data and matching metadata that you processed in Assignment 2."
   ]
  },
  {
   "cell_type": "code",
   "execution_count": 38,
   "id": "a495269d",
   "metadata": {},
   "outputs": [],
   "source": [
    "expression_df = pd.read_csv('..\\data\\SRP092257\\data_with_gene_names.tsv', sep='\\t')"
   ]
  },
  {
   "cell_type": "code",
   "execution_count": 39,
   "id": "8fac1fab",
   "metadata": {},
   "outputs": [],
   "source": [
    "metadata_df = pd.read_csv('..\\data\\SRP092257\\metadata_SRP092257.tsv', sep='\\t')"
   ]
  },
  {
   "cell_type": "markdown",
   "id": "578fcbe9",
   "metadata": {},
   "source": [
    "### 2. Unsupervised Analysis (e.g. using TidyClust in R or scikit-learn in Python)"
   ]
  },
  {
   "cell_type": "markdown",
   "id": "c2f1c0f2",
   "metadata": {},
   "source": [
    "#### a. Subset your data to the 5,000 most variable genes"
   ]
  },
  {
   "cell_type": "code",
   "execution_count": 40,
   "id": "77911afa",
   "metadata": {},
   "outputs": [],
   "source": [
    "if 'Gene' in expression_df.columns:\n",
    "    expression_df.set_index('Gene', inplace=True)"
   ]
  },
  {
   "cell_type": "code",
   "execution_count": 41,
   "id": "c87bfbe2",
   "metadata": {},
   "outputs": [],
   "source": [
    "gene_variances = expression_df.var(axis=1)\n",
    "\n",
    "top_5000_genes = gene_variances.nlargest(5000).index\n",
    "subset_expression = expression_df.loc[top_5000_genes]"
   ]
  },
  {
   "cell_type": "code",
   "execution_count": 42,
   "id": "0e667f7c",
   "metadata": {},
   "outputs": [],
   "source": [
    "#transpose to have samples as rows and genes as cols\n",
    "subset_expression_T = subset_expression.T\n",
    "\n",
    "#standardize\n",
    "scaler = StandardScaler()\n",
    "X_scaled = scaler.fit_transform(subset_expression_T)"
   ]
  },
  {
   "cell_type": "markdown",
   "id": "1826cf66",
   "metadata": {},
   "source": [
    "#### b. Using that subset of the data, select and run K-means"
   ]
  },
  {
   "cell_type": "code",
   "execution_count": 43,
   "id": "d8a8b6fc",
   "metadata": {},
   "outputs": [
    {
     "name": "stdout",
     "output_type": "stream",
     "text": [
      "Contingency Table between k=2 and k=3 clusters:\n",
      "k_3   0   1  2\n",
      "k_2           \n",
      "0     0  27  0\n",
      "1    63   0  4\n"
     ]
    }
   ],
   "source": [
    "cluster_results = pd.DataFrame(index=subset_expression_T.index)\n",
    "\n",
    "#KMeans for k from 2 to 10\n",
    "for k in range(2, 11):\n",
    "    kmeans = KMeans(n_clusters=k, random_state=30)\n",
    "    clusters = kmeans.fit_predict(X_scaled)\n",
    "    cluster_results[f'k_{k}'] = clusters\n",
    "    \n",
    "contingency_table = pd.crosstab(cluster_results['k_2'], cluster_results['k_3'])\n",
    "print(\"Contingency Table between k=2 and k=3 clusters:\")\n",
    "print(contingency_table)"
   ]
  },
  {
   "cell_type": "code",
   "execution_count": 44,
   "id": "fd17a974",
   "metadata": {},
   "outputs": [],
   "source": [
    "def relabel_clusters(prev_labels, curr_labels):\n",
    "    #create a contingency table\n",
    "    contingency = confusion_matrix(prev_labels, curr_labels)\n",
    "    row_ind, col_ind = linear_sum_assignment(-contingency)\n",
    "    mapping = {col: row for row, col in zip(row_ind, col_ind)}\n",
    "    #map the current labels to the previous labels\n",
    "    new_curr_labels = np.array([mapping.get(label, label) for label in curr_labels])\n",
    "    return new_curr_labels"
   ]
  },
  {
   "cell_type": "markdown",
   "id": "dc5a139b",
   "metadata": {},
   "source": [
    "#### d. Summarize findings\n",
    "I used KMeans clustering, which requires choosing the number of clusters 𝑘. With k=2, the method found 2 clusters. Increasing it to 𝑘 = 3 resulted in 3 clusters. Changing k changed the cluster assignments. When we increased k from 2 to 3, the samples in one cluster mostly stayed together but got a new cluster label, while the samples in the other cluster split into two groups. This shows that increasing k allowed us to detect smaller subgroups within the data. So, changing k affected the results by revealing more detailed groupings in the clusters."
   ]
  },
  {
   "cell_type": "markdown",
   "id": "f7685eec",
   "metadata": {},
   "source": [
    "#### e. Rerun Clustering with Different Numbers of Genes"
   ]
  },
  {
   "cell_type": "code",
   "execution_count": 45,
   "id": "f31092d2",
   "metadata": {},
   "outputs": [],
   "source": [
    "#Varying the number of genes\n",
    "gene_numbers = [10, 100, 1000, 5000, 10000]\n",
    "cluster_results_genes = pd.DataFrame(index=expression_df.columns)\n",
    "prev_clusters = None\n",
    "\n",
    "for num_genes in gene_numbers:\n",
    "    num_genes = min(num_genes, len(gene_variances))\n",
    "    top_genes = gene_variances.nlargest(num_genes).index\n",
    "    subset_expression = expression_df.loc[top_genes]\n",
    "    subset_expression_T = subset_expression.T\n",
    "\n",
    "    #standardize the data\n",
    "    scaler = StandardScaler()\n",
    "    X_scaled = scaler.fit_transform(subset_expression_T)\n",
    "\n",
    "    #perform KMeans clustering\n",
    "    kmeans = KMeans(n_clusters=3, random_state=30)\n",
    "    clusters = kmeans.fit_predict(X_scaled)\n",
    "\n",
    "    #relabel clusters to match previous clustering\n",
    "    if prev_clusters is not None:\n",
    "        contingency = confusion_matrix(prev_clusters, clusters)\n",
    "        row_ind, col_ind = linear_sum_assignment(-contingency)\n",
    "        mapping = {col: row for row, col in zip(row_ind, col_ind)}\n",
    "        clusters = np.array([mapping.get(label, label) for label in clusters])\n",
    "\n",
    "    cluster_results_genes[f'genes_{num_genes}'] = clusters\n",
    "    prev_clusters = clusters\n",
    "\n",
    "cluster_results_genes.reset_index(inplace=True)\n",
    "cluster_results_genes.rename(columns={'index': 'Sample'}, inplace=True)\n"
   ]
  },
  {
   "cell_type": "code",
   "execution_count": 46,
   "id": "c85e5098",
   "metadata": {},
   "outputs": [
    {
     "name": "stdout",
     "output_type": "stream",
     "text": [
      "\n",
      "Chi-squared test results between clustering results:\n",
      "                   Comparison        Chi2       p-value  Adjusted p-value\n",
      "0          Sample vs genes_10  188.000000  4.451720e-01      4.451720e-01\n",
      "1         Sample vs genes_100  188.000000  4.451720e-01      4.451720e-01\n",
      "2        Sample vs genes_1000  188.000000  4.451720e-01      4.451720e-01\n",
      "3        Sample vs genes_5000  188.000000  4.451720e-01      4.451720e-01\n",
      "4       Sample vs genes_10000  188.000000  4.451720e-01      4.451720e-01\n",
      "5       genes_10 vs genes_100  166.414815  6.149395e-35      9.224093e-35\n",
      "6      genes_10 vs genes_1000  188.000000  1.425746e-39      3.564366e-39\n",
      "7      genes_10 vs genes_5000  188.000000  1.425746e-39      3.564366e-39\n",
      "8     genes_10 vs genes_10000  188.000000  1.425746e-39      3.564366e-39\n",
      "9     genes_100 vs genes_1000  166.414815  6.149395e-35      9.224093e-35\n",
      "10    genes_100 vs genes_5000  166.414815  6.149395e-35      9.224093e-35\n",
      "11   genes_100 vs genes_10000  166.414815  6.149395e-35      9.224093e-35\n",
      "12   genes_1000 vs genes_5000  188.000000  1.425746e-39      3.564366e-39\n",
      "13  genes_1000 vs genes_10000  188.000000  1.425746e-39      3.564366e-39\n",
      "14  genes_5000 vs genes_10000  188.000000  1.425746e-39      3.564366e-39\n"
     ]
    }
   ],
   "source": [
    "#Perform chi-squared tests between clustering results\n",
    "chi2_results = []\n",
    "\n",
    "for col1, col2 in combinations(cluster_results_genes.columns, 2):\n",
    "    contingency = pd.crosstab(cluster_results_genes[col1], cluster_results_genes[col2])\n",
    "    chi2, p, dof, expected = chi2_contingency(contingency)\n",
    "    chi2_results.append({'Comparison': f'{col1} vs {col2}', 'Chi2': chi2, 'p-value': p})\n",
    "\n",
    "chi2_df = pd.DataFrame(chi2_results)\n",
    "\n",
    "#adjust p-values\n",
    "_, adj_p_values, _, _ = multipletests(chi2_df['p-value'], method='fdr_bh')\n",
    "chi2_df['Adjusted p-value'] = adj_p_values\n",
    "\n",
    "#display the chi-squared results\n",
    "print(\"\\nChi-squared test results between clustering results:\")\n",
    "print(chi2_df)"
   ]
  },
  {
   "cell_type": "markdown",
   "id": "a8082831",
   "metadata": {},
   "source": [
    "The chi-squared test results show a very strong association between the clustering outcomes obtained with different numbers of genes. This means that the cluster assignments are consistent across various gene subsets, indicating that the main patterns identified by the clustering algorithm remain stable regardless of how many genes are included. In the context of our data, this suggests that even when using different gene subsets, the clustering effectively captures the same underlying biological differences among the samples. These findings support the conclusion that my clustering method reliably and consistently groups the samples across different gene selections."
   ]
  },
  {
   "cell_type": "code",
   "execution_count": 47,
   "id": "114788ea",
   "metadata": {},
   "outputs": [
    {
     "data": {
      "application/vnd.plotly.v1+json": {
       "config": {
        "plotlyServerURL": "https://plot.ly"
       },
       "data": [
        {
         "link": {
          "source": [
           0,
           0,
           1,
           2,
           3,
           4,
           5,
           5,
           6,
           7,
           8,
           9,
           10,
           11
          ],
          "target": [
           3,
           5,
           4,
           5,
           6,
           7,
           6,
           8,
           9,
           10,
           11,
           12,
           13,
           14
          ],
          "value": [
           26,
           1,
           63,
           4,
           26,
           63,
           1,
           4,
           27,
           63,
           4,
           27,
           63,
           4
          ]
         },
         "node": {
          "label": [
           "0_10",
           "1_10",
           "2_10",
           "0_100",
           "1_100",
           "2_100",
           "0_1000",
           "1_1000",
           "2_1000",
           "0_5000",
           "1_5000",
           "2_5000",
           "0_10000",
           "1_10000",
           "2_10000"
          ],
          "pad": 15,
          "thickness": 20
         },
         "type": "sankey"
        }
       ],
       "layout": {
        "font": {
         "size": 10
        },
        "template": {
         "data": {
          "bar": [
           {
            "error_x": {
             "color": "#2a3f5f"
            },
            "error_y": {
             "color": "#2a3f5f"
            },
            "marker": {
             "line": {
              "color": "#E5ECF6",
              "width": 0.5
             },
             "pattern": {
              "fillmode": "overlay",
              "size": 10,
              "solidity": 0.2
             }
            },
            "type": "bar"
           }
          ],
          "barpolar": [
           {
            "marker": {
             "line": {
              "color": "#E5ECF6",
              "width": 0.5
             },
             "pattern": {
              "fillmode": "overlay",
              "size": 10,
              "solidity": 0.2
             }
            },
            "type": "barpolar"
           }
          ],
          "carpet": [
           {
            "aaxis": {
             "endlinecolor": "#2a3f5f",
             "gridcolor": "white",
             "linecolor": "white",
             "minorgridcolor": "white",
             "startlinecolor": "#2a3f5f"
            },
            "baxis": {
             "endlinecolor": "#2a3f5f",
             "gridcolor": "white",
             "linecolor": "white",
             "minorgridcolor": "white",
             "startlinecolor": "#2a3f5f"
            },
            "type": "carpet"
           }
          ],
          "choropleth": [
           {
            "colorbar": {
             "outlinewidth": 0,
             "ticks": ""
            },
            "type": "choropleth"
           }
          ],
          "contour": [
           {
            "colorbar": {
             "outlinewidth": 0,
             "ticks": ""
            },
            "colorscale": [
             [
              0,
              "#0d0887"
             ],
             [
              0.1111111111111111,
              "#46039f"
             ],
             [
              0.2222222222222222,
              "#7201a8"
             ],
             [
              0.3333333333333333,
              "#9c179e"
             ],
             [
              0.4444444444444444,
              "#bd3786"
             ],
             [
              0.5555555555555556,
              "#d8576b"
             ],
             [
              0.6666666666666666,
              "#ed7953"
             ],
             [
              0.7777777777777778,
              "#fb9f3a"
             ],
             [
              0.8888888888888888,
              "#fdca26"
             ],
             [
              1,
              "#f0f921"
             ]
            ],
            "type": "contour"
           }
          ],
          "contourcarpet": [
           {
            "colorbar": {
             "outlinewidth": 0,
             "ticks": ""
            },
            "type": "contourcarpet"
           }
          ],
          "heatmap": [
           {
            "colorbar": {
             "outlinewidth": 0,
             "ticks": ""
            },
            "colorscale": [
             [
              0,
              "#0d0887"
             ],
             [
              0.1111111111111111,
              "#46039f"
             ],
             [
              0.2222222222222222,
              "#7201a8"
             ],
             [
              0.3333333333333333,
              "#9c179e"
             ],
             [
              0.4444444444444444,
              "#bd3786"
             ],
             [
              0.5555555555555556,
              "#d8576b"
             ],
             [
              0.6666666666666666,
              "#ed7953"
             ],
             [
              0.7777777777777778,
              "#fb9f3a"
             ],
             [
              0.8888888888888888,
              "#fdca26"
             ],
             [
              1,
              "#f0f921"
             ]
            ],
            "type": "heatmap"
           }
          ],
          "heatmapgl": [
           {
            "colorbar": {
             "outlinewidth": 0,
             "ticks": ""
            },
            "colorscale": [
             [
              0,
              "#0d0887"
             ],
             [
              0.1111111111111111,
              "#46039f"
             ],
             [
              0.2222222222222222,
              "#7201a8"
             ],
             [
              0.3333333333333333,
              "#9c179e"
             ],
             [
              0.4444444444444444,
              "#bd3786"
             ],
             [
              0.5555555555555556,
              "#d8576b"
             ],
             [
              0.6666666666666666,
              "#ed7953"
             ],
             [
              0.7777777777777778,
              "#fb9f3a"
             ],
             [
              0.8888888888888888,
              "#fdca26"
             ],
             [
              1,
              "#f0f921"
             ]
            ],
            "type": "heatmapgl"
           }
          ],
          "histogram": [
           {
            "marker": {
             "pattern": {
              "fillmode": "overlay",
              "size": 10,
              "solidity": 0.2
             }
            },
            "type": "histogram"
           }
          ],
          "histogram2d": [
           {
            "colorbar": {
             "outlinewidth": 0,
             "ticks": ""
            },
            "colorscale": [
             [
              0,
              "#0d0887"
             ],
             [
              0.1111111111111111,
              "#46039f"
             ],
             [
              0.2222222222222222,
              "#7201a8"
             ],
             [
              0.3333333333333333,
              "#9c179e"
             ],
             [
              0.4444444444444444,
              "#bd3786"
             ],
             [
              0.5555555555555556,
              "#d8576b"
             ],
             [
              0.6666666666666666,
              "#ed7953"
             ],
             [
              0.7777777777777778,
              "#fb9f3a"
             ],
             [
              0.8888888888888888,
              "#fdca26"
             ],
             [
              1,
              "#f0f921"
             ]
            ],
            "type": "histogram2d"
           }
          ],
          "histogram2dcontour": [
           {
            "colorbar": {
             "outlinewidth": 0,
             "ticks": ""
            },
            "colorscale": [
             [
              0,
              "#0d0887"
             ],
             [
              0.1111111111111111,
              "#46039f"
             ],
             [
              0.2222222222222222,
              "#7201a8"
             ],
             [
              0.3333333333333333,
              "#9c179e"
             ],
             [
              0.4444444444444444,
              "#bd3786"
             ],
             [
              0.5555555555555556,
              "#d8576b"
             ],
             [
              0.6666666666666666,
              "#ed7953"
             ],
             [
              0.7777777777777778,
              "#fb9f3a"
             ],
             [
              0.8888888888888888,
              "#fdca26"
             ],
             [
              1,
              "#f0f921"
             ]
            ],
            "type": "histogram2dcontour"
           }
          ],
          "mesh3d": [
           {
            "colorbar": {
             "outlinewidth": 0,
             "ticks": ""
            },
            "type": "mesh3d"
           }
          ],
          "parcoords": [
           {
            "line": {
             "colorbar": {
              "outlinewidth": 0,
              "ticks": ""
             }
            },
            "type": "parcoords"
           }
          ],
          "pie": [
           {
            "automargin": true,
            "type": "pie"
           }
          ],
          "scatter": [
           {
            "fillpattern": {
             "fillmode": "overlay",
             "size": 10,
             "solidity": 0.2
            },
            "type": "scatter"
           }
          ],
          "scatter3d": [
           {
            "line": {
             "colorbar": {
              "outlinewidth": 0,
              "ticks": ""
             }
            },
            "marker": {
             "colorbar": {
              "outlinewidth": 0,
              "ticks": ""
             }
            },
            "type": "scatter3d"
           }
          ],
          "scattercarpet": [
           {
            "marker": {
             "colorbar": {
              "outlinewidth": 0,
              "ticks": ""
             }
            },
            "type": "scattercarpet"
           }
          ],
          "scattergeo": [
           {
            "marker": {
             "colorbar": {
              "outlinewidth": 0,
              "ticks": ""
             }
            },
            "type": "scattergeo"
           }
          ],
          "scattergl": [
           {
            "marker": {
             "colorbar": {
              "outlinewidth": 0,
              "ticks": ""
             }
            },
            "type": "scattergl"
           }
          ],
          "scattermapbox": [
           {
            "marker": {
             "colorbar": {
              "outlinewidth": 0,
              "ticks": ""
             }
            },
            "type": "scattermapbox"
           }
          ],
          "scatterpolar": [
           {
            "marker": {
             "colorbar": {
              "outlinewidth": 0,
              "ticks": ""
             }
            },
            "type": "scatterpolar"
           }
          ],
          "scatterpolargl": [
           {
            "marker": {
             "colorbar": {
              "outlinewidth": 0,
              "ticks": ""
             }
            },
            "type": "scatterpolargl"
           }
          ],
          "scatterternary": [
           {
            "marker": {
             "colorbar": {
              "outlinewidth": 0,
              "ticks": ""
             }
            },
            "type": "scatterternary"
           }
          ],
          "surface": [
           {
            "colorbar": {
             "outlinewidth": 0,
             "ticks": ""
            },
            "colorscale": [
             [
              0,
              "#0d0887"
             ],
             [
              0.1111111111111111,
              "#46039f"
             ],
             [
              0.2222222222222222,
              "#7201a8"
             ],
             [
              0.3333333333333333,
              "#9c179e"
             ],
             [
              0.4444444444444444,
              "#bd3786"
             ],
             [
              0.5555555555555556,
              "#d8576b"
             ],
             [
              0.6666666666666666,
              "#ed7953"
             ],
             [
              0.7777777777777778,
              "#fb9f3a"
             ],
             [
              0.8888888888888888,
              "#fdca26"
             ],
             [
              1,
              "#f0f921"
             ]
            ],
            "type": "surface"
           }
          ],
          "table": [
           {
            "cells": {
             "fill": {
              "color": "#EBF0F8"
             },
             "line": {
              "color": "white"
             }
            },
            "header": {
             "fill": {
              "color": "#C8D4E3"
             },
             "line": {
              "color": "white"
             }
            },
            "type": "table"
           }
          ]
         },
         "layout": {
          "annotationdefaults": {
           "arrowcolor": "#2a3f5f",
           "arrowhead": 0,
           "arrowwidth": 1
          },
          "autotypenumbers": "strict",
          "coloraxis": {
           "colorbar": {
            "outlinewidth": 0,
            "ticks": ""
           }
          },
          "colorscale": {
           "diverging": [
            [
             0,
             "#8e0152"
            ],
            [
             0.1,
             "#c51b7d"
            ],
            [
             0.2,
             "#de77ae"
            ],
            [
             0.3,
             "#f1b6da"
            ],
            [
             0.4,
             "#fde0ef"
            ],
            [
             0.5,
             "#f7f7f7"
            ],
            [
             0.6,
             "#e6f5d0"
            ],
            [
             0.7,
             "#b8e186"
            ],
            [
             0.8,
             "#7fbc41"
            ],
            [
             0.9,
             "#4d9221"
            ],
            [
             1,
             "#276419"
            ]
           ],
           "sequential": [
            [
             0,
             "#0d0887"
            ],
            [
             0.1111111111111111,
             "#46039f"
            ],
            [
             0.2222222222222222,
             "#7201a8"
            ],
            [
             0.3333333333333333,
             "#9c179e"
            ],
            [
             0.4444444444444444,
             "#bd3786"
            ],
            [
             0.5555555555555556,
             "#d8576b"
            ],
            [
             0.6666666666666666,
             "#ed7953"
            ],
            [
             0.7777777777777778,
             "#fb9f3a"
            ],
            [
             0.8888888888888888,
             "#fdca26"
            ],
            [
             1,
             "#f0f921"
            ]
           ],
           "sequentialminus": [
            [
             0,
             "#0d0887"
            ],
            [
             0.1111111111111111,
             "#46039f"
            ],
            [
             0.2222222222222222,
             "#7201a8"
            ],
            [
             0.3333333333333333,
             "#9c179e"
            ],
            [
             0.4444444444444444,
             "#bd3786"
            ],
            [
             0.5555555555555556,
             "#d8576b"
            ],
            [
             0.6666666666666666,
             "#ed7953"
            ],
            [
             0.7777777777777778,
             "#fb9f3a"
            ],
            [
             0.8888888888888888,
             "#fdca26"
            ],
            [
             1,
             "#f0f921"
            ]
           ]
          },
          "colorway": [
           "#636efa",
           "#EF553B",
           "#00cc96",
           "#ab63fa",
           "#FFA15A",
           "#19d3f3",
           "#FF6692",
           "#B6E880",
           "#FF97FF",
           "#FECB52"
          ],
          "font": {
           "color": "#2a3f5f"
          },
          "geo": {
           "bgcolor": "white",
           "lakecolor": "white",
           "landcolor": "#E5ECF6",
           "showlakes": true,
           "showland": true,
           "subunitcolor": "white"
          },
          "hoverlabel": {
           "align": "left"
          },
          "hovermode": "closest",
          "mapbox": {
           "style": "light"
          },
          "paper_bgcolor": "white",
          "plot_bgcolor": "#E5ECF6",
          "polar": {
           "angularaxis": {
            "gridcolor": "white",
            "linecolor": "white",
            "ticks": ""
           },
           "bgcolor": "#E5ECF6",
           "radialaxis": {
            "gridcolor": "white",
            "linecolor": "white",
            "ticks": ""
           }
          },
          "scene": {
           "xaxis": {
            "backgroundcolor": "#E5ECF6",
            "gridcolor": "white",
            "gridwidth": 2,
            "linecolor": "white",
            "showbackground": true,
            "ticks": "",
            "zerolinecolor": "white"
           },
           "yaxis": {
            "backgroundcolor": "#E5ECF6",
            "gridcolor": "white",
            "gridwidth": 2,
            "linecolor": "white",
            "showbackground": true,
            "ticks": "",
            "zerolinecolor": "white"
           },
           "zaxis": {
            "backgroundcolor": "#E5ECF6",
            "gridcolor": "white",
            "gridwidth": 2,
            "linecolor": "white",
            "showbackground": true,
            "ticks": "",
            "zerolinecolor": "white"
           }
          },
          "shapedefaults": {
           "line": {
            "color": "#2a3f5f"
           }
          },
          "ternary": {
           "aaxis": {
            "gridcolor": "white",
            "linecolor": "white",
            "ticks": ""
           },
           "baxis": {
            "gridcolor": "white",
            "linecolor": "white",
            "ticks": ""
           },
           "bgcolor": "#E5ECF6",
           "caxis": {
            "gridcolor": "white",
            "linecolor": "white",
            "ticks": ""
           }
          },
          "title": {
           "x": 0.05
          },
          "xaxis": {
           "automargin": true,
           "gridcolor": "white",
           "linecolor": "white",
           "ticks": "",
           "title": {
            "standoff": 15
           },
           "zerolinecolor": "white",
           "zerolinewidth": 2
          },
          "yaxis": {
           "automargin": true,
           "gridcolor": "white",
           "linecolor": "white",
           "ticks": "",
           "title": {
            "standoff": 15
           },
           "zerolinecolor": "white",
           "zerolinewidth": 2
          }
         }
        },
        "title": {
         "text": "Sankey Diagram of Cluster Membership Changes"
        }
       }
      },
      "text/html": [
       "<div>                            <div id=\"02c454d7-7153-4150-98d9-42786db547f5\" class=\"plotly-graph-div\" style=\"height:525px; width:100%;\"></div>            <script type=\"text/javascript\">                require([\"plotly\"], function(Plotly) {                    window.PLOTLYENV=window.PLOTLYENV || {};                                    if (document.getElementById(\"02c454d7-7153-4150-98d9-42786db547f5\")) {                    Plotly.newPlot(                        \"02c454d7-7153-4150-98d9-42786db547f5\",                        [{\"link\":{\"source\":[0,0,1,2,3,4,5,5,6,7,8,9,10,11],\"target\":[3,5,4,5,6,7,6,8,9,10,11,12,13,14],\"value\":[26,1,63,4,26,63,1,4,27,63,4,27,63,4]},\"node\":{\"label\":[\"0_10\",\"1_10\",\"2_10\",\"0_100\",\"1_100\",\"2_100\",\"0_1000\",\"1_1000\",\"2_1000\",\"0_5000\",\"1_5000\",\"2_5000\",\"0_10000\",\"1_10000\",\"2_10000\"],\"pad\":15,\"thickness\":20},\"type\":\"sankey\"}],                        {\"template\":{\"data\":{\"histogram2dcontour\":[{\"type\":\"histogram2dcontour\",\"colorbar\":{\"outlinewidth\":0,\"ticks\":\"\"},\"colorscale\":[[0.0,\"#0d0887\"],[0.1111111111111111,\"#46039f\"],[0.2222222222222222,\"#7201a8\"],[0.3333333333333333,\"#9c179e\"],[0.4444444444444444,\"#bd3786\"],[0.5555555555555556,\"#d8576b\"],[0.6666666666666666,\"#ed7953\"],[0.7777777777777778,\"#fb9f3a\"],[0.8888888888888888,\"#fdca26\"],[1.0,\"#f0f921\"]]}],\"choropleth\":[{\"type\":\"choropleth\",\"colorbar\":{\"outlinewidth\":0,\"ticks\":\"\"}}],\"histogram2d\":[{\"type\":\"histogram2d\",\"colorbar\":{\"outlinewidth\":0,\"ticks\":\"\"},\"colorscale\":[[0.0,\"#0d0887\"],[0.1111111111111111,\"#46039f\"],[0.2222222222222222,\"#7201a8\"],[0.3333333333333333,\"#9c179e\"],[0.4444444444444444,\"#bd3786\"],[0.5555555555555556,\"#d8576b\"],[0.6666666666666666,\"#ed7953\"],[0.7777777777777778,\"#fb9f3a\"],[0.8888888888888888,\"#fdca26\"],[1.0,\"#f0f921\"]]}],\"heatmap\":[{\"type\":\"heatmap\",\"colorbar\":{\"outlinewidth\":0,\"ticks\":\"\"},\"colorscale\":[[0.0,\"#0d0887\"],[0.1111111111111111,\"#46039f\"],[0.2222222222222222,\"#7201a8\"],[0.3333333333333333,\"#9c179e\"],[0.4444444444444444,\"#bd3786\"],[0.5555555555555556,\"#d8576b\"],[0.6666666666666666,\"#ed7953\"],[0.7777777777777778,\"#fb9f3a\"],[0.8888888888888888,\"#fdca26\"],[1.0,\"#f0f921\"]]}],\"heatmapgl\":[{\"type\":\"heatmapgl\",\"colorbar\":{\"outlinewidth\":0,\"ticks\":\"\"},\"colorscale\":[[0.0,\"#0d0887\"],[0.1111111111111111,\"#46039f\"],[0.2222222222222222,\"#7201a8\"],[0.3333333333333333,\"#9c179e\"],[0.4444444444444444,\"#bd3786\"],[0.5555555555555556,\"#d8576b\"],[0.6666666666666666,\"#ed7953\"],[0.7777777777777778,\"#fb9f3a\"],[0.8888888888888888,\"#fdca26\"],[1.0,\"#f0f921\"]]}],\"contourcarpet\":[{\"type\":\"contourcarpet\",\"colorbar\":{\"outlinewidth\":0,\"ticks\":\"\"}}],\"contour\":[{\"type\":\"contour\",\"colorbar\":{\"outlinewidth\":0,\"ticks\":\"\"},\"colorscale\":[[0.0,\"#0d0887\"],[0.1111111111111111,\"#46039f\"],[0.2222222222222222,\"#7201a8\"],[0.3333333333333333,\"#9c179e\"],[0.4444444444444444,\"#bd3786\"],[0.5555555555555556,\"#d8576b\"],[0.6666666666666666,\"#ed7953\"],[0.7777777777777778,\"#fb9f3a\"],[0.8888888888888888,\"#fdca26\"],[1.0,\"#f0f921\"]]}],\"surface\":[{\"type\":\"surface\",\"colorbar\":{\"outlinewidth\":0,\"ticks\":\"\"},\"colorscale\":[[0.0,\"#0d0887\"],[0.1111111111111111,\"#46039f\"],[0.2222222222222222,\"#7201a8\"],[0.3333333333333333,\"#9c179e\"],[0.4444444444444444,\"#bd3786\"],[0.5555555555555556,\"#d8576b\"],[0.6666666666666666,\"#ed7953\"],[0.7777777777777778,\"#fb9f3a\"],[0.8888888888888888,\"#fdca26\"],[1.0,\"#f0f921\"]]}],\"mesh3d\":[{\"type\":\"mesh3d\",\"colorbar\":{\"outlinewidth\":0,\"ticks\":\"\"}}],\"scatter\":[{\"fillpattern\":{\"fillmode\":\"overlay\",\"size\":10,\"solidity\":0.2},\"type\":\"scatter\"}],\"parcoords\":[{\"type\":\"parcoords\",\"line\":{\"colorbar\":{\"outlinewidth\":0,\"ticks\":\"\"}}}],\"scatterpolargl\":[{\"type\":\"scatterpolargl\",\"marker\":{\"colorbar\":{\"outlinewidth\":0,\"ticks\":\"\"}}}],\"bar\":[{\"error_x\":{\"color\":\"#2a3f5f\"},\"error_y\":{\"color\":\"#2a3f5f\"},\"marker\":{\"line\":{\"color\":\"#E5ECF6\",\"width\":0.5},\"pattern\":{\"fillmode\":\"overlay\",\"size\":10,\"solidity\":0.2}},\"type\":\"bar\"}],\"scattergeo\":[{\"type\":\"scattergeo\",\"marker\":{\"colorbar\":{\"outlinewidth\":0,\"ticks\":\"\"}}}],\"scatterpolar\":[{\"type\":\"scatterpolar\",\"marker\":{\"colorbar\":{\"outlinewidth\":0,\"ticks\":\"\"}}}],\"histogram\":[{\"marker\":{\"pattern\":{\"fillmode\":\"overlay\",\"size\":10,\"solidity\":0.2}},\"type\":\"histogram\"}],\"scattergl\":[{\"type\":\"scattergl\",\"marker\":{\"colorbar\":{\"outlinewidth\":0,\"ticks\":\"\"}}}],\"scatter3d\":[{\"type\":\"scatter3d\",\"line\":{\"colorbar\":{\"outlinewidth\":0,\"ticks\":\"\"}},\"marker\":{\"colorbar\":{\"outlinewidth\":0,\"ticks\":\"\"}}}],\"scattermapbox\":[{\"type\":\"scattermapbox\",\"marker\":{\"colorbar\":{\"outlinewidth\":0,\"ticks\":\"\"}}}],\"scatterternary\":[{\"type\":\"scatterternary\",\"marker\":{\"colorbar\":{\"outlinewidth\":0,\"ticks\":\"\"}}}],\"scattercarpet\":[{\"type\":\"scattercarpet\",\"marker\":{\"colorbar\":{\"outlinewidth\":0,\"ticks\":\"\"}}}],\"carpet\":[{\"aaxis\":{\"endlinecolor\":\"#2a3f5f\",\"gridcolor\":\"white\",\"linecolor\":\"white\",\"minorgridcolor\":\"white\",\"startlinecolor\":\"#2a3f5f\"},\"baxis\":{\"endlinecolor\":\"#2a3f5f\",\"gridcolor\":\"white\",\"linecolor\":\"white\",\"minorgridcolor\":\"white\",\"startlinecolor\":\"#2a3f5f\"},\"type\":\"carpet\"}],\"table\":[{\"cells\":{\"fill\":{\"color\":\"#EBF0F8\"},\"line\":{\"color\":\"white\"}},\"header\":{\"fill\":{\"color\":\"#C8D4E3\"},\"line\":{\"color\":\"white\"}},\"type\":\"table\"}],\"barpolar\":[{\"marker\":{\"line\":{\"color\":\"#E5ECF6\",\"width\":0.5},\"pattern\":{\"fillmode\":\"overlay\",\"size\":10,\"solidity\":0.2}},\"type\":\"barpolar\"}],\"pie\":[{\"automargin\":true,\"type\":\"pie\"}]},\"layout\":{\"autotypenumbers\":\"strict\",\"colorway\":[\"#636efa\",\"#EF553B\",\"#00cc96\",\"#ab63fa\",\"#FFA15A\",\"#19d3f3\",\"#FF6692\",\"#B6E880\",\"#FF97FF\",\"#FECB52\"],\"font\":{\"color\":\"#2a3f5f\"},\"hovermode\":\"closest\",\"hoverlabel\":{\"align\":\"left\"},\"paper_bgcolor\":\"white\",\"plot_bgcolor\":\"#E5ECF6\",\"polar\":{\"bgcolor\":\"#E5ECF6\",\"angularaxis\":{\"gridcolor\":\"white\",\"linecolor\":\"white\",\"ticks\":\"\"},\"radialaxis\":{\"gridcolor\":\"white\",\"linecolor\":\"white\",\"ticks\":\"\"}},\"ternary\":{\"bgcolor\":\"#E5ECF6\",\"aaxis\":{\"gridcolor\":\"white\",\"linecolor\":\"white\",\"ticks\":\"\"},\"baxis\":{\"gridcolor\":\"white\",\"linecolor\":\"white\",\"ticks\":\"\"},\"caxis\":{\"gridcolor\":\"white\",\"linecolor\":\"white\",\"ticks\":\"\"}},\"coloraxis\":{\"colorbar\":{\"outlinewidth\":0,\"ticks\":\"\"}},\"colorscale\":{\"sequential\":[[0.0,\"#0d0887\"],[0.1111111111111111,\"#46039f\"],[0.2222222222222222,\"#7201a8\"],[0.3333333333333333,\"#9c179e\"],[0.4444444444444444,\"#bd3786\"],[0.5555555555555556,\"#d8576b\"],[0.6666666666666666,\"#ed7953\"],[0.7777777777777778,\"#fb9f3a\"],[0.8888888888888888,\"#fdca26\"],[1.0,\"#f0f921\"]],\"sequentialminus\":[[0.0,\"#0d0887\"],[0.1111111111111111,\"#46039f\"],[0.2222222222222222,\"#7201a8\"],[0.3333333333333333,\"#9c179e\"],[0.4444444444444444,\"#bd3786\"],[0.5555555555555556,\"#d8576b\"],[0.6666666666666666,\"#ed7953\"],[0.7777777777777778,\"#fb9f3a\"],[0.8888888888888888,\"#fdca26\"],[1.0,\"#f0f921\"]],\"diverging\":[[0,\"#8e0152\"],[0.1,\"#c51b7d\"],[0.2,\"#de77ae\"],[0.3,\"#f1b6da\"],[0.4,\"#fde0ef\"],[0.5,\"#f7f7f7\"],[0.6,\"#e6f5d0\"],[0.7,\"#b8e186\"],[0.8,\"#7fbc41\"],[0.9,\"#4d9221\"],[1,\"#276419\"]]},\"xaxis\":{\"gridcolor\":\"white\",\"linecolor\":\"white\",\"ticks\":\"\",\"title\":{\"standoff\":15},\"zerolinecolor\":\"white\",\"automargin\":true,\"zerolinewidth\":2},\"yaxis\":{\"gridcolor\":\"white\",\"linecolor\":\"white\",\"ticks\":\"\",\"title\":{\"standoff\":15},\"zerolinecolor\":\"white\",\"automargin\":true,\"zerolinewidth\":2},\"scene\":{\"xaxis\":{\"backgroundcolor\":\"#E5ECF6\",\"gridcolor\":\"white\",\"linecolor\":\"white\",\"showbackground\":true,\"ticks\":\"\",\"zerolinecolor\":\"white\",\"gridwidth\":2},\"yaxis\":{\"backgroundcolor\":\"#E5ECF6\",\"gridcolor\":\"white\",\"linecolor\":\"white\",\"showbackground\":true,\"ticks\":\"\",\"zerolinecolor\":\"white\",\"gridwidth\":2},\"zaxis\":{\"backgroundcolor\":\"#E5ECF6\",\"gridcolor\":\"white\",\"linecolor\":\"white\",\"showbackground\":true,\"ticks\":\"\",\"zerolinecolor\":\"white\",\"gridwidth\":2}},\"shapedefaults\":{\"line\":{\"color\":\"#2a3f5f\"}},\"annotationdefaults\":{\"arrowcolor\":\"#2a3f5f\",\"arrowhead\":0,\"arrowwidth\":1},\"geo\":{\"bgcolor\":\"white\",\"landcolor\":\"#E5ECF6\",\"subunitcolor\":\"white\",\"showland\":true,\"showlakes\":true,\"lakecolor\":\"white\"},\"title\":{\"x\":0.05},\"mapbox\":{\"style\":\"light\"}}},\"title\":{\"text\":\"Sankey Diagram of Cluster Membership Changes\"},\"font\":{\"size\":10}},                        {\"responsive\": true}                    ).then(function(){\n",
       "                            \n",
       "var gd = document.getElementById('02c454d7-7153-4150-98d9-42786db547f5');\n",
       "var x = new MutationObserver(function (mutations, observer) {{\n",
       "        var display = window.getComputedStyle(gd).display;\n",
       "        if (!display || display === 'none') {{\n",
       "            console.log([gd, 'removed!']);\n",
       "            Plotly.purge(gd);\n",
       "            observer.disconnect();\n",
       "        }}\n",
       "}});\n",
       "\n",
       "// Listen for the removal of the full notebook cells\n",
       "var notebookContainer = gd.closest('#notebook-container');\n",
       "if (notebookContainer) {{\n",
       "    x.observe(notebookContainer, {childList: true});\n",
       "}}\n",
       "\n",
       "// Listen for the clearing of the current output cell\n",
       "var outputEl = gd.closest('.output');\n",
       "if (outputEl) {{\n",
       "    x.observe(outputEl, {childList: true});\n",
       "}}\n",
       "\n",
       "                        })                };                });            </script>        </div>"
      ]
     },
     "metadata": {},
     "output_type": "display_data"
    }
   ],
   "source": [
    "alluvial_data = []\n",
    "\n",
    "for i in range(len(gene_numbers) - 1):\n",
    "    left_clusters = cluster_results_genes[f'genes_{gene_numbers[i]}']\n",
    "    right_clusters = cluster_results_genes[f'genes_{gene_numbers[i + 1]}']\n",
    "    df_temp = pd.DataFrame({\n",
    "        'left': left_clusters,\n",
    "        'right': right_clusters\n",
    "    })\n",
    "\n",
    "    df_grouped = df_temp.groupby(['left', 'right']).size().reset_index(name='count')\n",
    "    df_grouped['source'] = df_grouped['left'].astype(str) + f'_{gene_numbers[i]}'\n",
    "    df_grouped['target'] = df_grouped['right'].astype(str) + f'_{gene_numbers[i + 1]}'\n",
    "    alluvial_data.append(df_grouped)\n",
    "\n",
    "alluvial_df = pd.concat(alluvial_data)\n",
    "\n",
    "#create labels\n",
    "labels = pd.unique(alluvial_df[['source', 'target']].values.ravel('K'))\n",
    "label_indices = {label: idx for idx, label in enumerate(labels)}\n",
    "\n",
    "#map labels to indices\n",
    "alluvial_df['source_id'] = alluvial_df['source'].map(label_indices)\n",
    "alluvial_df['target_id'] = alluvial_df['target'].map(label_indices)\n",
    "\n",
    "#Create the Sankey plot\n",
    "sankey_fig = go.Figure(data=[go.Sankey(\n",
    "    node=dict(\n",
    "        pad=15,\n",
    "        thickness=20,\n",
    "        label=labels,\n",
    "    ),\n",
    "    link=dict(\n",
    "        source=alluvial_df['source_id'],\n",
    "        target=alluvial_df['target_id'],\n",
    "        value=alluvial_df['count']\n",
    "    ))])\n",
    "\n",
    "sankey_fig.update_layout(\n",
    "    title_text=\"Sankey Diagram of Cluster Membership Changes\",\n",
    "    font_size=10\n",
    ")\n",
    "\n",
    "sankey_fig.show()\n"
   ]
  },
  {
   "cell_type": "markdown",
   "id": "f4b0a2fc",
   "metadata": {},
   "source": [
    "The Sankey plot demonstrates how individual samples change cluster assignments across different clustering setups using varying numbers of genes. It shows the flow of samples between clusters from one gene subset to the next. The plot reveals that most samples remain in the same clusters as the number of genes increases, indicating a high level of consistency in cluster memberships. This suggests that the clustering results are robust and the underlying patterns in your data are stable, regardless of the number of genes used. The Sankey plot supports the conclusion that my clustering method reliably captures the biological differences among the samples across different gene subsets."
   ]
  },
  {
   "cell_type": "markdown",
   "id": "16938286",
   "metadata": {},
   "source": [
    "### 3. Heatmaps and Dendrograms"
   ]
  },
  {
   "cell_type": "code",
   "execution_count": 48,
   "id": "8d4f6b61",
   "metadata": {},
   "outputs": [],
   "source": [
    "cluster_assignments = cluster_results_genes[['Sample', 'genes_1000', 'genes_5000']]\n",
    "cluster_assignments = cluster_assignments.rename(columns={'genes_1000': 'Cluster_1000', 'genes_5000': 'Cluster_5000'})\n",
    "\n",
    "cluster_assignments = cluster_assignments.merge(metadata_df, left_on='Sample', right_on='refinebio_accession_code')\n",
    "\n",
    "def assign_group(title):\n",
    "    if 'heat' in title.lower():\n",
    "        return 'heat affected'\n",
    "    elif 'thermoneutral' in title.lower():\n",
    "        return 'thermoneutral'\n",
    "    else:\n",
    "        return 'Unknown'\n",
    "\n",
    "cluster_assignments['Group'] = cluster_assignments['refinebio_title'].apply(assign_group)\n",
    "\n",
    "cluster_assignments.set_index('Sample', inplace=True)\n",
    "\n",
    "annotations = cluster_assignments[['Cluster_1000', 'Cluster_5000', 'Group']]\n"
   ]
  },
  {
   "cell_type": "code",
   "execution_count": 49,
   "id": "bab964cb",
   "metadata": {},
   "outputs": [],
   "source": [
    "#assign color to clusteres\n",
    "cluster_1000_palette = sns.color_palette(\"hsv\", len(annotations['Cluster_1000'].unique()))\n",
    "cluster_1000_lut = dict(zip(annotations['Cluster_1000'].unique(), cluster_1000_palette))\n",
    "cluster_1000_colors = annotations['Cluster_1000'].map(cluster_1000_lut)\n",
    "\n",
    "cluster_5000_palette = sns.color_palette(\"Set1\", len(annotations['Cluster_5000'].unique()))\n",
    "cluster_5000_lut = dict(zip(annotations['Cluster_5000'].unique(), cluster_5000_palette))\n",
    "cluster_5000_colors = annotations['Cluster_5000'].map(cluster_5000_lut)\n",
    "\n",
    "group_palette = sns.color_palette(\"Set2\", len(annotations['Group'].unique()))\n",
    "group_lut = dict(zip(annotations['Group'].unique(), group_palette))\n",
    "group_colors = annotations['Group'].map(group_lut)\n",
    "\n",
    "#combine into a df\n",
    "row_colors = pd.DataFrame({\n",
    "    'Cluster_1000': cluster_1000_colors,\n",
    "    'Cluster_5000': cluster_5000_colors,\n",
    "    'Group': group_colors\n",
    "}, index=annotations.index)"
   ]
  },
  {
   "cell_type": "code",
   "execution_count": 50,
   "id": "4e63bece",
   "metadata": {},
   "outputs": [
    {
     "name": "stderr",
     "output_type": "stream",
     "text": [
      "C:\\Users\\Ryan\\anaconda3\\lib\\site-packages\\seaborn\\matrix.py:654: UserWarning:\n",
      "\n",
      "Clustering large matrix with scipy. Installing `fastcluster` may give better performance.\n",
      "\n"
     ]
    },
    {
     "data": {
      "image/png": "[encoded data removed]",
      "text/plain": [
       "<Figure size 1200x1200 with 5 Axes>"
      ]
     },
     "metadata": {},
     "output_type": "display_data"
    }
   ],
   "source": [
    "#Create heatmap\n",
    "#standardize the data\n",
    "scaler = StandardScaler()\n",
    "X_scaled_subset = scaler.fit_transform(subset_expression_T)\n",
    "\n",
    "subset_expression_T_standardized = pd.DataFrame(X_scaled_subset, index=subset_expression_T.index, columns=subset_expression_T.columns)\n",
    "\n",
    "#Plot\n",
    "g = sns.clustermap(subset_expression_T_standardized, \n",
    "                   row_colors=row_colors,\n",
    "                   figsize=(12, 12),\n",
    "                   cmap='vlag',\n",
    "                   xticklabels=False,\n",
    "                   yticklabels=False)\n",
    "\n",
    "g.fig.subplots_adjust(right=0.7)\n",
    "\n",
    "#create legend\n",
    "\n",
    "handles_cluster_1000 = [plt.Line2D([], [], marker=\"s\", color=color, linestyle='', markersize=10) \n",
    "                        for color in cluster_1000_lut.values()]\n",
    "labels_cluster_1000 = [f'Cluster {key}' for key in cluster_1000_lut.keys()]\n",
    "\n",
    "\n",
    "handles_cluster_5000 = [plt.Line2D([], [], marker=\"s\", color=color, linestyle='', markersize=10) \n",
    "                        for color in cluster_5000_lut.values()]\n",
    "labels_cluster_5000 = [f'Cluster {key}' for key in cluster_5000_lut.keys()]\n",
    "\n",
    "\n",
    "handles_group = [plt.Line2D([], [], marker=\"s\", color=color, linestyle='', markersize=10) \n",
    "                 for color in group_lut.values()]\n",
    "labels_group = list(group_lut.keys())\n",
    "\n",
    "y_start = 1.0\n",
    "y_step = -0.1\n",
    "\n",
    "\n",
    "legend_cluster_1000 = g.ax_row_dendrogram.legend(handles_cluster_1000, labels_cluster_1000, title='Cluster_1000',\n",
    "                                                 loc='upper left', bbox_to_anchor=(1.02, y_start), borderaxespad=0)\n",
    "y_start += y_step\n",
    "\n",
    "\n",
    "legend_cluster_5000 = g.ax_row_dendrogram.legend(handles_cluster_5000, labels_cluster_5000, title='Cluster_5000',\n",
    "                                                 loc='upper left', bbox_to_anchor=(1.02, y_start), borderaxespad=0)\n",
    "y_start += y_step\n",
    "\n",
    "\n",
    "legend_group = g.ax_row_dendrogram.legend(handles_group, labels_group, title='Group',\n",
    "                                          loc='upper left', bbox_to_anchor=(1.02, y_start), borderaxespad=0)\n",
    "y_start += y_step\n",
    "\n",
    "g.ax_row_dendrogram.add_artist(legend_cluster_1000)\n",
    "g.ax_row_dendrogram.add_artist(legend_cluster_5000)\n",
    "g.ax_row_dendrogram.add_artist(legend_group)\n",
    "\n",
    "plt.show()"
   ]
  },
  {
   "cell_type": "markdown",
   "id": "a23362d2",
   "metadata": {},
   "source": [
    "The heatmap and dendrogram provide a visual representation of the gene expression patterns in my samples, highlighting how they cluster based on these patterns. Specifically, the annotation sidebars mark the clusters and distinguish between the 'heat affected' and 'thermoneutral' groups. The dendrogram reveals that samples from the 'heat affected' group cluster somewhat closely together, as do those from the 'thermoneutral' group. This slight separation indicates that the clustering method may differentiate between the two biological conditions. This demonstrates that my clustering analysis successfully captures the underlying gene expression differences associated with heat exposure."
   ]
  },
  {
   "cell_type": "markdown",
   "id": "4fa0d16f",
   "metadata": {},
   "source": [
    "### 4. Statistics"
   ]
  },
  {
   "cell_type": "code",
   "execution_count": 51,
   "id": "854e35e3",
   "metadata": {
    "scrolled": false
   },
   "outputs": [
    {
     "name": "stdout",
     "output_type": "stream",
     "text": [
      "    Clustering       Chi2   p-value  Adjusted p-value\n",
      "0     genes_10  10.060125  0.006538          0.006538\n",
      "1    genes_100  10.632257  0.004912          0.006538\n",
      "2   genes_1000  10.060125  0.006538          0.006538\n",
      "3   genes_5000  10.060125  0.006538          0.006538\n",
      "4  genes_10000  10.060125  0.006538          0.006538\n"
     ]
    }
   ],
   "source": [
    "#Merge with metadata\n",
    "merged_df = cluster_results_genes.merge(metadata_df, left_on='Sample', right_on='refinebio_accession_code')\n",
    "\n",
    "def assign_group(title):\n",
    "    if 'heat' in title.lower():\n",
    "        return 'heat affected'\n",
    "    elif 'thermoneutral' in title.lower():\n",
    "        return 'thermoneutral'\n",
    "    else:\n",
    "        return 'Unknown'\n",
    "\n",
    "merged_df['Group'] = merged_df['refinebio_title'].apply(assign_group)\n",
    "\n",
    "#init a list to store chi-squared test results\n",
    "chi2_group_results = []\n",
    "\n",
    "clustering_columns = ['genes_10', 'genes_100', 'genes_1000', 'genes_5000', 'genes_10000']\n",
    "\n",
    "for col in clustering_columns:\n",
    "    if col in merged_df.columns:\n",
    "        contingency = pd.crosstab(merged_df[col], merged_df['Group'])\n",
    "\n",
    "        if contingency.shape[0] > 1 and contingency.shape[1] > 1:\n",
    "            chi2, p, dof, expected = chi2_contingency(contingency)\n",
    "        else:\n",
    "            chi2, p = np.nan, np.nan\n",
    "\n",
    "        chi2_group_results.append({'Clustering': col, 'Chi2': chi2, 'p-value': p})\n",
    "\n",
    "chi2_group_df = pd.DataFrame(chi2_group_results)\n",
    "\n",
    "chi2_group_df = chi2_group_df.dropna(subset=['p-value'])\n",
    "\n",
    "#adjust p-values\n",
    "if not chi2_group_df.empty:\n",
    "    _, adj_p_values, _, _ = multipletests(chi2_group_df['p-value'], method='fdr_bh')\n",
    "    chi2_group_df['Adjusted p-value'] = adj_p_values\n",
    "\n",
    "print(chi2_group_df)"
   ]
  },
  {
   "cell_type": "markdown",
   "id": "d96ed0f7",
   "metadata": {},
   "source": [
    "The chi-squared test results indicate a significant association between the clustering outcomes and the sample groups ('heat affected' and 'thermoneutral') across all gene subsets tested. Specifically, for each clustering result using different numbers of genes (from 10 to 10,000), the chi-squared values are around 10 with p-values approximately 0.0065. These statistically significant p-values suggest that the clusters derived from each gene subset effectively differentiate between the 'heat affected' and 'thermoneutral' groups."
   ]
  }
 ],
 "metadata": {
  "kernelspec": {
   "display_name": "Python 3 (ipykernel)",
   "language": "python",
   "name": "python3"
  },
  "language_info": {
   "codemirror_mode": {
    "name": "ipython",
    "version": 3
   },
   "file_extension": ".py",
   "mimetype": "text/x-python",
   "name": "python",
   "nbconvert_exporter": "python",
   "pygments_lexer": "ipython3",
   "version": "3.9.13"
  }
 },
 "nbformat": 4,
 "nbformat_minor": 5
}
